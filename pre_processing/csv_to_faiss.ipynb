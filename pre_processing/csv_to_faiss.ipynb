{
 "cells": [
  {
   "cell_type": "code",
   "execution_count": null,
   "metadata": {},
   "outputs": [],
   "source": [
    "# API 키를 환경변수로 관리하기 위한 설정 파일\n",
    "from dotenv import load_dotenv\n",
    "\n",
    "# LangSmith 추적을 설정합니다. https://smith.langchain.com\n",
    "# !pip install langchain-teddynote\n",
    "from langchain_teddynote import logging\n",
    "\n",
    "# API 키 정보 로드\n",
    "load_dotenv()\n",
    "\n",
    "# 프로젝트 이름을 입력합니다.\n",
    "logging.langsmith(\"VectorStores\")"
   ]
  },
  {
   "cell_type": "code",
   "execution_count": null,
   "metadata": {},
   "outputs": [],
   "source": [
    "from langchain_community.document_loaders.csv_loader import CSVLoader\n",
    "import csv\n",
    "\n",
    "file_path = \"../data/csv_data/rental_data.csv\"\n",
    "\n",
    "\n",
    "def get_csv_headers(file_path):\n",
    "    with open(file_path, mode=\"r\", encoding=\"utf-8\") as csvfile:\n",
    "        reader = csv.reader(csvfile)\n",
    "        headers = next(reader)  # 첫 번째 줄(헤더) 가져오기\n",
    "    return headers\n",
    "\n",
    "\n",
    "headers = get_csv_headers(file_path)\n",
    "\n",
    "# CSV 로더 생성\n",
    "loader = CSVLoader(\n",
    "    file_path=file_path,\n",
    "    csv_args={\n",
    "        \"delimiter\": \",\",\n",
    "        \"quotechar\": '\"',\n",
    "        \"fieldnames\": headers,\n",
    "    },\n",
    "    # source_column=\"place\",\n",
    "    content_columns=headers,\n",
    "    metadata_columns=[\"price\", \"place\"],\n",
    ")\n",
    "docs = loader.load()\n",
    "# print(docs[1])"
   ]
  },
  {
   "cell_type": "code",
   "execution_count": null,
   "metadata": {},
   "outputs": [],
   "source": [
    "i = 1\n",
    "\n",
    "for doc in docs[i:]:\n",
    "    row = doc.page_content.split(\"\\n\")\n",
    "    row_str = \"<row>\"\n",
    "    for element in row:\n",
    "        splitted_element = element.split(\":\")\n",
    "        value = splitted_element[-1]\n",
    "        col = \":\".join(splitted_element[:-1])\n",
    "        row_str += f\"<{col}>{value.strip()}</{col}>\"\n",
    "    row_str += \"</row>\\n\\n\"\n",
    "\n",
    "    docs[i].page_content = row_str\n",
    "    i += 1\n",
    "    # print(ret[i].page_content)\n",
    "    # ret += row_str\n",
    "\n",
    "ret = docs"
   ]
  },
  {
   "cell_type": "code",
   "execution_count": null,
   "metadata": {},
   "outputs": [],
   "source": [
    "print(ret[1].metadata)"
   ]
  },
  {
   "cell_type": "code",
   "execution_count": null,
   "metadata": {},
   "outputs": [],
   "source": [
    "import faiss\n",
    "from langchain_community.vectorstores import FAISS\n",
    "from langchain_community.docstore.in_memory import InMemoryDocstore\n",
    "from langchain_openai import OpenAIEmbeddings\n",
    "\n",
    "# 임베딩\n",
    "embeddings = OpenAIEmbeddings(model=\"text-embedding-3-small\")\n",
    "\n",
    "# 임베딩 차원 크기를 계산\n",
    "dimension_size = len(embeddings.embed_query(\"hello world\"))\n",
    "print(dimension_size)"
   ]
  },
  {
   "cell_type": "code",
   "execution_count": null,
   "metadata": {},
   "outputs": [],
   "source": [
    "# FAISS 벡터 저장소 생성\n",
    "db = FAISS(\n",
    "    embedding_function=embeddings,\n",
    "    index=faiss.IndexFlatL2(dimension_size),\n",
    "    docstore=InMemoryDocstore(),\n",
    "    index_to_docstore_id={},\n",
    ")"
   ]
  },
  {
   "cell_type": "code",
   "execution_count": null,
   "metadata": {},
   "outputs": [],
   "source": [
    "# DB 생성\n",
    "db = FAISS.from_documents(documents=ret[:3], embedding=OpenAIEmbeddings())"
   ]
  },
  {
   "cell_type": "code",
   "execution_count": null,
   "metadata": {},
   "outputs": [],
   "source": [
    "# 벡터 저장소에 Document 문서 추가\n",
    "from langchain_core.documents import Document\n",
    "\n",
    "# page_content, metadata 지정\n",
    "db.add_documents(ret[3:])"
   ]
  },
  {
   "cell_type": "code",
   "execution_count": null,
   "metadata": {},
   "outputs": [],
   "source": [
    "# 문서 저장소 ID 확인\n",
    "# db.index_to_docstore_id\n",
    "\n",
    "# 저장된 내용\n",
    "# db.docstore._dict\n",
    "\n",
    "# id 로 삭제\n",
    "# db.delete([id])\n",
    "\n",
    "# 벡터 저장소를 병합\n",
    "# db.merge_from(db2)"
   ]
  },
  {
   "cell_type": "code",
   "execution_count": null,
   "metadata": {},
   "outputs": [],
   "source": [
    "# 임계값 기반 검색 수행\n",
    "# retriever = db.as_retriever(\n",
    "#     search_type=\"similarity_score_threshold\", search_kwargs={\"score_threshold\": 0.7}\n",
    "# )\n",
    "\n",
    "\n",
    "# 메타데이터 필터 적용\n",
    "faiss_retriever = db.as_retriever(search_kwargs={\"k\": 3})"
   ]
  },
  {
   "cell_type": "code",
   "execution_count": null,
   "metadata": {},
   "outputs": [],
   "source": [
    "faiss_retriever.invoke(\"수정 오피스텔에 대해 알려줘\")"
   ]
  },
  {
   "cell_type": "code",
   "execution_count": null,
   "metadata": {},
   "outputs": [],
   "source": [
    "# 문서를 예쁘게 출력하기 위한 도우미 함수\n",
    "def pretty_print_docs(docs):\n",
    "    for doc in docs:\n",
    "        print(doc.metadata[\"price\"] + \" \" + doc.metadata[\"place\"])"
   ]
  },
  {
   "cell_type": "code",
   "execution_count": null,
   "metadata": {},
   "outputs": [],
   "source": [
    "import faiss\n",
    "from langchain_community.vectorstores import FAISS\n",
    "from langchain_community.docstore.in_memory import InMemoryDocstore\n",
    "from langchain_openai import OpenAIEmbeddings\n",
    "\n",
    "# 로컬 Disk 에 저장\n",
    "# db.save_local(folder_path=\"faiss_db\", index_name=\"faiss_index\")\n",
    "\n",
    "# # 저장된 데이터를 로드\n",
    "db = FAISS.load_local(\n",
    "    folder_path=\"faiss_db\",\n",
    "    index_name=\"faiss_index\",\n",
    "    embeddings=embeddings,\n",
    "    allow_dangerous_deserialization=True,\n",
    ")\n",
    "\n",
    "# # 로드된 데이터를 확인\n",
    "# loaded_db.index_to_docstore_id"
   ]
  },
  {
   "cell_type": "code",
   "execution_count": null,
   "metadata": {},
   "outputs": [],
   "source": [
    "# # # ConfigurableField 클래스를 사용해 런타임에서 retriever 속성을 변경\n",
    "\n",
    "# from langchain_core.runnables import ConfigurableField\n",
    "# from langchain.retrievers import BM25Retriever, EnsembleRetriever\n",
    "\n",
    "# # bm25 retriever와 faiss retriever를 초기화합니다.\n",
    "# bm25_retriever = BM25Retriever.from_documents(\n",
    "#     documents=ret[1:],\n",
    "# )\n",
    "\n",
    "# bm25_retriever.k=3\n",
    "\n",
    "# ensemble_retriever = EnsembleRetriever(\n",
    "#     # 리트리버 목록을 설정합니다. 여기서는 bm25_retriever와 faiss_retriever를 사용합니다.\n",
    "#     retrievers=[bm25_retriever, faiss_retriever],\n",
    "# ).configurable_fields(\n",
    "#     weights=ConfigurableField(\n",
    "#         # 검색 매개변수의 고유 식별자를 설정합니다.\n",
    "#         id=\"ensemble_weights\",\n",
    "#         # 검색 매개변수의 이름을 설정합니다.\n",
    "#         name=\"Ensemble Weights\",\n",
    "#         # 검색 매개변수에 대한 설명을 작성합니다.\n",
    "#         description=\"Ensemble Weights\",\n",
    "#     )\n",
    "# )\n",
    "\n",
    "# config = {\"configurable\": {\"ensemble_weights\": [0.7, 0.3]}}\n",
    "\n",
    "# # config 매개변수를 사용하여 검색 설정을 지정합니다.\n",
    "# docs = ensemble_retriever.invoke(\"중문 자취방 추천해줘\", config=config)\n",
    "# pretty_print_docs(docs)  # 검색 결과인 docs를 출력합니다."
   ]
  },
  {
   "cell_type": "code",
   "execution_count": null,
   "metadata": {},
   "outputs": [],
   "source": [
    "# self-query retriever\n",
    "from langchain.chains.query_constructor.base import AttributeInfo\n",
    "from langchain.retrievers.self_query.base import SelfQueryRetriever\n",
    "\n",
    "# 메타데이터 필드 정보 생성\n",
    "metadata_field_info = [\n",
    "    AttributeInfo(\n",
    "        name=\"place\",\n",
    "        description=\"The location information of the rental room. One of ['정문', '중문', '후문', '기숙사 근처', '농가마트 근처', '교육문화회관 뒤']\",\n",
    "        type=\"string\",\n",
    "    ),\n",
    "    AttributeInfo(\n",
    "        name=\"price\",\n",
    "        description=\"The rental price of the room, which may include information about annual rent or half-year rent, or both\",\n",
    "        type=\"string\",\n",
    "    ),\n",
    "]"
   ]
  },
  {
   "cell_type": "code",
   "execution_count": null,
   "metadata": {},
   "outputs": [],
   "source": [
    "from langchain.chains.query_constructor.base import (\n",
    "    StructuredQueryOutputParser,\n",
    "    get_query_constructor_prompt,\n",
    ")\n",
    "from langchain_openai import ChatOpenAI\n",
    "\n",
    "llm = ChatOpenAI(temperature=0, model=\"gpt-4o-mini\")\n",
    "\n",
    "# 문서 내용 설명과 메타데이터 필드 정보를 사용하여 쿼리 생성기 프롬프트를 가져옵니다.\n",
    "prompt = get_query_constructor_prompt(\n",
    "    \"Brief summary of a rental room\",  # 문서 내용 설명\n",
    "    metadata_field_info,  # 메타데이터 필드 정보\n",
    ")\n",
    "\n",
    "# StructuredQueryOutputParser 를 생성\n",
    "output_parser = StructuredQueryOutputParser.from_components()\n",
    "\n",
    "# query_constructor chain 을 생성\n",
    "query_constructor = prompt | llm | output_parser"
   ]
  },
  {
   "cell_type": "code",
   "execution_count": null,
   "metadata": {},
   "outputs": [],
   "source": [
    "query_output = query_constructor.invoke(\n",
    "    {\n",
    "        # 쿼리 생성기를 호출하여 주어진 질문에 대한 쿼리를 생성합니다.\n",
    "        \"query\": \"중문 자취방 추천해주세요\"\n",
    "    }\n",
    ")"
   ]
  },
  {
   "cell_type": "code",
   "execution_count": null,
   "metadata": {},
   "outputs": [],
   "source": [
    "# # 쿼리 출력\n",
    "# query_output.filter.arguments"
   ]
  },
  {
   "cell_type": "code",
   "execution_count": null,
   "metadata": {},
   "outputs": [],
   "source": [
    "from langchain.retrievers.self_query.chroma import ChromaTranslator\n",
    "\n",
    "retriever = SelfQueryRetriever(\n",
    "    query_constructor=query_constructor,  # 이전에 생성한 query_constructor chain 을 지정\n",
    "    vectorstore=db,  # 벡터 저장소를 지정\n",
    "    structured_query_translator=ChromaTranslator(),  # 쿼리 변환기\n",
    ")"
   ]
  },
  {
   "cell_type": "code",
   "execution_count": null,
   "metadata": {},
   "outputs": [],
   "source": [
    "# docs=retriever.invoke(\n",
    "#     \"후문 자취방 추천해주세요\"\n",
    "# )\n",
    "# pretty_print_docs(docs)  # 검색 결과인 docs를 출력합니다."
   ]
  },
  {
   "cell_type": "code",
   "execution_count": null,
   "metadata": {},
   "outputs": [],
   "source": [
    "# retriever = SelfQueryRetriever.from_llm(\n",
    "#     llm=llm,\n",
    "#     vectorstore=db,\n",
    "#     document_contents=\"Brief summary of a rental room\",\n",
    "#     metadata_field_info=metadata_field_info,\n",
    "#     enable_limit=True,  # 검색 결과 제한 기능을 활성화합니다.\n",
    "#     search_kwargs={\"k\": 2},  # k 의 값을 2로 지정하여 검색 결과를 2개로 제한합니다.\n",
    "# )"
   ]
  },
  {
   "cell_type": "code",
   "execution_count": null,
   "metadata": {},
   "outputs": [],
   "source": [
    "# # Self-query 검색\n",
    "# retriever.invoke(\"2023년에 출시된 상품을 추천해주세요\")"
   ]
  }
 ],
 "metadata": {
  "kernelspec": {
   "display_name": ".venv",
   "language": "python",
   "name": "python3"
  },
  "language_info": {
   "codemirror_mode": {
    "name": "ipython",
    "version": 3
   },
   "file_extension": ".py",
   "mimetype": "text/x-python",
   "name": "python",
   "nbconvert_exporter": "python",
   "pygments_lexer": "ipython3",
   "version": "3.11.9"
  }
 },
 "nbformat": 4,
 "nbformat_minor": 2
}
