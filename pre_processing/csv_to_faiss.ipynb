{
 "cells": [
  {
   "cell_type": "code",
   "execution_count": null,
   "metadata": {},
   "outputs": [],
   "source": [
    "from langchain_community.document_loaders.csv_loader import CSVLoader\n",
    "import csv\n",
    "\n",
    "file_path = \"../data/csv_data/rental_data.csv\"\n",
    "\n",
    "\n",
    "def get_csv_headers(file_path):\n",
    "    with open(file_path, mode=\"r\", encoding=\"utf-8\") as csvfile:\n",
    "        reader = csv.reader(csvfile)\n",
    "        headers = next(reader)  # 첫 번째 줄(헤더) 가져오기\n",
    "    return headers\n",
    "\n",
    "\n",
    "headers = get_csv_headers(file_path)\n",
    "\n",
    "# CSV 로더 생성\n",
    "loader = CSVLoader(\n",
    "    file_path=file_path,\n",
    "    csv_args={\n",
    "        \"delimiter\": \",\",\n",
    "        \"quotechar\": '\"',\n",
    "        \"fieldnames\": headers,\n",
    "    },\n",
    "    # source_column=\"place\",\n",
    "    content_columns=headers,\n",
    "    metadata_columns=[\"price\", \"place\"],\n",
    ")\n",
    "docs = loader.load()\n",
    "# print(docs[1])"
   ]
  },
  {
   "cell_type": "code",
   "execution_count": null,
   "metadata": {},
   "outputs": [],
   "source": [
    "i=1\n",
    "\n",
    "for doc in docs[i:]:\n",
    "    row = doc.page_content.split(\"\\n\")\n",
    "    row_str = \"<row>\"\n",
    "    for element in row:\n",
    "        splitted_element = element.split(\":\")\n",
    "        value = splitted_element[-1]\n",
    "        col = \":\".join(splitted_element[:-1])\n",
    "        row_str += f\"<{col}>{value.strip()}</{col}>\"\n",
    "    row_str += \"</row>\\n\\n\"\n",
    "\n",
    "    docs[i].page_content = row_str\n",
    "    i+=1\n",
    "    # print(ret[i].page_content)\n",
    "    # ret += row_str\n",
    "\n",
    "ret=docs"
   ]
  },
  {
   "cell_type": "code",
   "execution_count": null,
   "metadata": {},
   "outputs": [],
   "source": [
    "# from langchain_text_splitters import RecursiveCharacterTextSplitter\n",
    "\n",
    "# text_splitter = RecursiveCharacterTextSplitter(\n",
    "#     chunk_size=400,\n",
    "#     chunk_overlap=0,\n",
    "#     length_function=len,\n",
    "#     is_separator_regex=False,\n",
    "# )\n",
    "\n",
    "# texts = text_splitter.create_documents([ret])\n",
    "# count = 0\n",
    "# for i in texts[:]:\n",
    "#     count += 1\n",
    "#     # print(i.page_content)\n",
    "#     # print(\"\\n\")\n",
    "# print(count)"
   ]
  },
  {
   "cell_type": "code",
   "execution_count": null,
   "metadata": {},
   "outputs": [],
   "source": [
    "# API 키를 환경변수로 관리하기 위한 설정 파일\n",
    "from dotenv import load_dotenv\n",
    "\n",
    "# API 키 정보 로드\n",
    "load_dotenv()"
   ]
  },
  {
   "cell_type": "code",
   "execution_count": null,
   "metadata": {},
   "outputs": [],
   "source": [
    "# LangSmith 추적을 설정합니다. https://smith.langchain.com\n",
    "# !pip install langchain-teddynote\n",
    "from langchain_teddynote import logging\n",
    "\n",
    "# 프로젝트 이름을 입력합니다.\n",
    "logging.langsmith(\"VectorStores\")"
   ]
  },
  {
   "cell_type": "code",
   "execution_count": null,
   "metadata": {},
   "outputs": [],
   "source": [
    "import faiss\n",
    "from langchain_community.vectorstores import FAISS\n",
    "from langchain_community.docstore.in_memory import InMemoryDocstore\n",
    "from langchain_openai import OpenAIEmbeddings\n",
    "\n",
    "# 임베딩\n",
    "embeddings = OpenAIEmbeddings(model=\"text-embedding-3-small\")\n",
    "\n",
    "# 임베딩 차원 크기를 계산\n",
    "dimension_size = len(embeddings.embed_query(\"hello world\"))\n",
    "print(dimension_size)"
   ]
  },
  {
   "cell_type": "code",
   "execution_count": null,
   "metadata": {},
   "outputs": [],
   "source": [
    "# FAISS 벡터 저장소 생성\n",
    "db = FAISS(\n",
    "    embedding_function=embeddings,\n",
    "    index=faiss.IndexFlatL2(dimension_size),\n",
    "    docstore=InMemoryDocstore(),\n",
    "    index_to_docstore_id={},\n",
    ")"
   ]
  },
  {
   "cell_type": "code",
   "execution_count": null,
   "metadata": {},
   "outputs": [],
   "source": [
    "# DB 생성\n",
    "db = FAISS.from_documents(documents=ret[:3], embedding=OpenAIEmbeddings())"
   ]
  },
  {
   "cell_type": "code",
   "execution_count": null,
   "metadata": {},
   "outputs": [],
   "source": [
    "# 벡터 저장소에 Document 문서 추가\n",
    "# from langchain_core.documents import Document\n",
    "\n",
    "# # page_content, metadata 지정\n",
    "# db.add_documents(\n",
    "#     [\n",
    "#         Document(\n",
    "#             page_content=\"안녕하세요! 이번엔 도큐먼트를 새로 추가해 볼께요\",\n",
    "#             metadata={\"source\": \"mydata.txt\"},\n",
    "#         )\n",
    "#     ],\n",
    "#     ids=[\"new_doc1\"],\n",
    "# )"
   ]
  },
  {
   "cell_type": "code",
   "execution_count": null,
   "metadata": {},
   "outputs": [],
   "source": [
    "from langchain_core.documents import Document\n",
    "\n",
    "# page_content, metadata 지정\n",
    "db.add_documents(\n",
    "    ret[3:]\n",
    ")"
   ]
  },
  {
   "cell_type": "code",
   "execution_count": null,
   "metadata": {},
   "outputs": [],
   "source": [
    "# 문서 저장소 ID 확인\n",
    "db.index_to_docstore_id"
   ]
  },
  {
   "cell_type": "code",
   "execution_count": null,
   "metadata": {},
   "outputs": [],
   "source": [
    "# 저장된 내용\n",
    "db.docstore._dict"
   ]
  },
  {
   "cell_type": "code",
   "execution_count": 25,
   "metadata": {},
   "outputs": [
    {
     "data": {
      "text/plain": [
       "[Document(id='ca23576b-346e-473d-8280-32d9aab1b09e', metadata={'source': '../data/csv_data/rental_data.csv', 'row': 18, 'price': '년세 340 / 반년세 170', 'place': '중문'}, page_content='<row><name>수정오피스텔</name><address>호서로79번길 8-7</address><contact>010-7143-4949</contact><price>년세 340 / 반년세 170</price><fee>X / 10만원</fee><options>풀옵션</options><gas_type>심야전기</gas_type><comment>cctv 가동</comment><place>중문</place></row>\\n\\n'),\n",
       " Document(id='13631f45-98f4-4891-a687-f9bfa954152d', metadata={'source': '../data/csv_data/rental_data.csv', 'row': 15, 'price': '원룸 년세 280, 300 / 반년세 150', 'place': '중문'}, page_content='<row><name>하버드오피스텔</name><address>호서로79번길 8-16</address><contact>010-2844-2995</contact><price>원룸 년세 280, 300 / 반년세 150</price><fee>X / 20만원</fee><options>풀옵션</options><gas_type>심야전기</gas_type><comment>투룸은 직접 문의</comment><place>중문</place></row>\\n\\n'),\n",
       " Document(id='1b5e9435-2113-4190-8bd3-121812c37353', metadata={'source': '../data/csv_data/rental_data.csv', 'row': 19, 'price': '년세 310 / 반년세 160', 'place': '중문'}, page_content='<row><name>수정홈스텔</name><address>호서로79번길 8-18</address><contact>010-7143-4949</contact><price>년세 310 / 반년세 160</price><fee>X / 10만원</fee><options>null</options><gas_type>심야전기</gas_type><comment>cctv 가동</comment><place>중문</place></row>\\n\\n'),\n",
       " Document(id='a6e777eb-376d-4720-a1f8-f997d115ada5', metadata={'source': '../data/csv_data/rental_data.csv', 'row': 29, 'price': '년세 240', 'place': '후문'}, page_content='<row><name>우리오피스텔</name><address>호서로125번길 25</address><contact>010-2335-6023</contact><price>년세 240</price><fee>X / 30만원</fee><options>풀옵션</options><gas_type>직접 문의</gas_type><comment>난방비, 수도세 개별 납부</comment><place>후문</place></row>\\n\\n')]"
      ]
     },
     "execution_count": 25,
     "metadata": {},
     "output_type": "execute_result"
    }
   ],
   "source": [
    "# 임계값 기반 검색 수행\n",
    "retriever = db.as_retriever(\n",
    "    search_type=\"similarity_score_threshold\", search_kwargs={\"score_threshold\": 0.7}\n",
    ")\n",
    "\n",
    "retriever.invoke(\"수정 오피스텔에 대해 알려줘\")"
   ]
  },
  {
   "cell_type": "code",
   "execution_count": 26,
   "metadata": {},
   "outputs": [
    {
     "data": {
      "text/plain": [
       "[Document(id='f9d50d8d-b62d-4596-8e02-72fdc8ce6d0a', metadata={'source': '../data/csv_data/rental_data.csv', 'row': 21, 'price': '년세 220 / 반년세 110', 'place': '중문'}, page_content='<row><name>그린빌</name><address>호서로79번길 8-22</address><contact>010-9037-2656</contact><price>년세 220 / 반년세 110</price><fee>X / 30</fee><options>풀옵션</options><gas_type>도시가스</gas_type><comment>전기세 개별 납부</comment><place>중문</place></row>\\n\\n'),\n",
       " Document(id='3abe3b69-6a13-4bc6-be24-608c71796719', metadata={'source': '../data/csv_data/rental_data.csv', 'row': 13, 'price': '년세 340 - 350 / 반년세 200', 'place': '중문'}, page_content='<row><name>상아빌라</name><address>호서로79번길 8-15</address><contact>010-6477-8486</contact><price>년세 340 - 350 / 반년세 200</price><fee>X / 10</fee><options>풀옵션</options><gas_type>심야전기</gas_type><comment>null</comment><place>중문</place></row>\\n\\n'),\n",
       " Document(id='e9a9d58a-a3a5-49dc-bcf2-c0e58d2ca651', metadata={'source': '../data/csv_data/rental_data.csv', 'row': 16, 'price': '년세 300 / 반년세 160', 'place': '중문'}, page_content='<row><name>샹제리제1</name><address>호서로79번길 8-10</address><contact>010-3205-4165</contact><price>년세 300 / 반년세 160</price><fee>X / 년세 20, 반년세 10</fee><options>풀옵션</options><gas_type>심야전기</gas_type><comment>전기세 개별 납부</comment><place>중문</place></row>\\n\\n'),\n",
       " Document(id='b8579f3f-26c9-45b0-8e3d-36ecc2b8021a', metadata={'source': '../data/csv_data/rental_data.csv', 'row': 17, 'price': '직접 문의 (원룸, 투룸)', 'place': '중문'}, page_content='<row><name>압구정원룸</name><address>호서로79번길 8-8</address><contact>010-5428-6038</contact><price>직접 문의 (원룸, 투룸)</price><fee>X / 20만원</fee><options>풀옵션</options><gas_type>도시가스</gas_type><comment>전기세, 가스비 개별 납부</comment><place>중문</place></row>\\n\\n'),\n",
       " Document(id='212e9a86-de20-4384-b75b-6464e1e5a9bd', metadata={'source': '../data/csv_data/rental_data.csv', 'row': 23, 'price': '년세 450', 'place': '중문'}, page_content='<row><name>센스빌</name><address>호서로103번길 17-1</address><contact>010-7296-7917</contact><price>년세 450</price><fee>X / 30</fee><options>풀옵션</options><gas_type>도시가스</gas_type><comment>전기세, 가스비 개별 납부</comment><place>중문</place></row>\\n\\n')]"
      ]
     },
     "execution_count": 26,
     "metadata": {},
     "output_type": "execute_result"
    }
   ],
   "source": [
    "# 메타데이터 필터 적용\n",
    "retriever = db.as_retriever(\n",
    "    search_kwargs={\"filter\": {\"place\": \"중문\"}, \"k\": 5}\n",
    ")\n",
    "retriever.invoke(\"ESG 에 대하여 알려줘\")"
   ]
  },
  {
   "cell_type": "code",
   "execution_count": null,
   "metadata": {},
   "outputs": [],
   "source": [
    "# 로컬 Disk 에 저장\n",
    "db.save_local(folder_path=\"faiss_db\", index_name=\"faiss_index\")"
   ]
  },
  {
   "cell_type": "code",
   "execution_count": null,
   "metadata": {},
   "outputs": [],
   "source": [
    "# id 로 삭제\n",
    "# db.delete([id])"
   ]
  },
  {
   "cell_type": "code",
   "execution_count": null,
   "metadata": {},
   "outputs": [],
   "source": [
    "# 벡터 저장소를 병합\n",
    "# db.merge_from(db2)"
   ]
  },
  {
   "cell_type": "code",
   "execution_count": null,
   "metadata": {},
   "outputs": [],
   "source": [
    "# 저장된 데이터를 로드\n",
    "loaded_db = FAISS.load_local(\n",
    "    folder_path=\"faiss_db\",\n",
    "    index_name=\"faiss_index\",\n",
    "    embeddings=embeddings,\n",
    "    allow_dangerous_deserialization=True,\n",
    ")"
   ]
  },
  {
   "cell_type": "code",
   "execution_count": null,
   "metadata": {},
   "outputs": [],
   "source": [
    "# 로드된 데이터를 확인\n",
    "loaded_db.index_to_docstore_id"
   ]
  },
  {
   "cell_type": "code",
   "execution_count": null,
   "metadata": {},
   "outputs": [],
   "source": []
  }
 ],
 "metadata": {
  "kernelspec": {
   "display_name": ".venv",
   "language": "python",
   "name": "python3"
  },
  "language_info": {
   "codemirror_mode": {
    "name": "ipython",
    "version": 3
   },
   "file_extension": ".py",
   "mimetype": "text/x-python",
   "name": "python",
   "nbconvert_exporter": "python",
   "pygments_lexer": "ipython3",
   "version": "3.11.9"
  }
 },
 "nbformat": 4,
 "nbformat_minor": 2
}
