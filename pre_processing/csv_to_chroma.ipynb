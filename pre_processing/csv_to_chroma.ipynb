{
 "cells": [
  {
   "cell_type": "code",
   "execution_count": null,
   "metadata": {},
   "outputs": [],
   "source": [
    "# API 키를 환경변수로 관리하기 위한 설정 파일\n",
    "from dotenv import load_dotenv\n",
    "\n",
    "# LangSmith 추적을 설정합니다. https://smith.langchain.com\n",
    "# !pip install langchain-teddynote\n",
    "from langchain_teddynote import logging\n",
    "\n",
    "# API 키 정보 로드\n",
    "load_dotenv()\n",
    "\n",
    "# 프로젝트 이름을 입력합니다.\n",
    "logging.langsmith(\"chroma_VectorStores\")"
   ]
  },
  {
   "cell_type": "code",
   "execution_count": null,
   "metadata": {},
   "outputs": [],
   "source": [
    "from langchain_community.document_loaders.csv_loader import CSVLoader\n",
    "import csv\n",
    "\n",
    "file_path = \"../data/csv_data/rental_data_with_null.csv\"\n",
    "\n",
    "\n",
    "def get_csv_headers(file_path):\n",
    "    with open(file_path, mode=\"r\", encoding=\"utf-8\") as csvfile:\n",
    "        reader = csv.reader(csvfile)\n",
    "        headers = next(reader)  # 첫 번째 줄(헤더) 가져오기\n",
    "    return headers\n",
    "\n",
    "\n",
    "headers = get_csv_headers(file_path)\n",
    "\n",
    "# CSV 로더 생성\n",
    "loader = CSVLoader(\n",
    "    file_path=file_path,\n",
    "    csv_args={\n",
    "        \"delimiter\": \",\",\n",
    "        \"quotechar\": '\"',\n",
    "        \"fieldnames\": headers,\n",
    "    },\n",
    "    # source_column=\"place\",\n",
    "    content_columns=headers,\n",
    "    metadata_columns=[\n",
    "        \"place\",\n",
    "        \"oneroom_half_year\",\n",
    "        \"oneroom_year\",\n",
    "        \"tworoom_half_year\",\n",
    "        \"tworoom_year\",\n",
    "    ],\n",
    ")\n",
    "docs = loader.load()\n",
    "print(docs[1].metadata)"
   ]
  },
  {
   "cell_type": "code",
   "execution_count": null,
   "metadata": {},
   "outputs": [],
   "source": [
    "def convert_metadata_to_int(docs, columns_to_convert):\n",
    "    \"\"\"\n",
    "    문서 리스트의 metadata 값을 integer로 변환하는 함수.\n",
    "    \n",
    "    Args:\n",
    "        docs: CSVLoader에서 로드된 문서 리스트.\n",
    "        columns_to_convert: integer로 변환할 열 이름 리스트.\n",
    "\n",
    "    Returns:\n",
    "        변환된 문서 리스트.\n",
    "    \"\"\"\n",
    "    for doc in docs:\n",
    "        for column in columns_to_convert:\n",
    "            if column in doc.metadata:\n",
    "                try:\n",
    "                    # metadata 값을 integer로 변환\n",
    "                    doc.metadata[column] = int(float(doc.metadata[column]))\n",
    "                except ValueError:\n",
    "                    # 변환 실패 시 NaN 또는 다른 처리 (여기서는 0으로 설정)\n",
    "                    doc.metadata[column] = 0\n",
    "    return docs\n",
    "\n",
    "# 변환할 열 이름 리스트\n",
    "columns_to_convert = [\n",
    "    \"oneroom_half_year\",\n",
    "    \"oneroom_year\",\n",
    "    \"tworoom_half_year\",\n",
    "    \"tworoom_year\",\n",
    "]\n",
    "\n",
    "# metadata 값을 integer로 변환\n",
    "docs = convert_metadata_to_int(docs, columns_to_convert)"
   ]
  },
  {
   "cell_type": "code",
   "execution_count": null,
   "metadata": {},
   "outputs": [],
   "source": [
    "print(docs[1].metadata)\n",
    "print(len(docs))"
   ]
  },
  {
   "cell_type": "code",
   "execution_count": null,
   "metadata": {},
   "outputs": [],
   "source": [
    "i = 1\n",
    "\n",
    "for doc in docs[i:]:\n",
    "    row = doc.page_content.split(\"\\n\")\n",
    "    row_str = \"<row>\"\n",
    "    for element in row:\n",
    "        splitted_element = element.split(\":\")\n",
    "        value = splitted_element[-1]\n",
    "        col = \":\".join(splitted_element[:-1])\n",
    "        row_str += f\"<{col}>{value.strip()}</{col}>\"\n",
    "    row_str += \"</row>\\n\\n\"\n",
    "\n",
    "    docs[i].page_content = row_str\n",
    "    i += 1\n",
    "    # print(ret[i].page_content)\n",
    "    # ret += row_str\n",
    "\n",
    "ret = docs"
   ]
  },
  {
   "cell_type": "code",
   "execution_count": null,
   "metadata": {},
   "outputs": [],
   "source": [
    "print(ret[60].metadata)"
   ]
  },
  {
   "cell_type": "code",
   "execution_count": null,
   "metadata": {},
   "outputs": [],
   "source": [
    "# 문서를 예쁘게 출력하기 위한 도우미 함수\n",
    "def pretty_print_docs(docs):\n",
    "    for doc in docs:\n",
    "        print(\"palce\", doc.metadata[\"place\"])\n",
    "        print(\"oneroom_half_year\", doc.metadata[\"oneroom_half_year\"])\n",
    "        print(\"oneroom_year\", doc.metadata[\"oneroom_year\"])\n",
    "        print(\"tworoom_half_year\", doc.metadata[\"tworoom_half_year\"])\n",
    "        print(\"tworoom_year\", doc.metadata[\"tworoom_year\"])\n",
    "        print(\"\\n=====================================\\n\")"
   ]
  },
  {
   "cell_type": "code",
   "execution_count": null,
   "metadata": {},
   "outputs": [],
   "source": [
    "# from langchain_chroma import Chroma\n",
    "# from langchain_openai.embeddings import OpenAIEmbeddings\n",
    "\n",
    "# embeddings = OpenAIEmbeddings(model=\"text-embedding-3-small\")\n",
    "\n",
    "# # 저장할 경로 지정\n",
    "# DB_PATH = \"./chroma_db\"\n",
    "\n",
    "# # 문서를 디스크에 저장합니다. 저장시 persist_directory에 저장할 경로를 지정합니다.\n",
    "# persist_db = Chroma.from_documents(\n",
    "#     ret[1:],\n",
    "#     embeddings,\n",
    "#     persist_directory=DB_PATH,\n",
    "#     collection_name=\"rental_data_with_null\",\n",
    "# )"
   ]
  },
  {
   "cell_type": "code",
   "execution_count": null,
   "metadata": {},
   "outputs": [],
   "source": [
    "from langchain_chroma import Chroma\n",
    "from langchain_openai.embeddings import OpenAIEmbeddings\n",
    "\n",
    "# 저장할 경로 지정\n",
    "DB_PATH = \"./chroma_db\"\n",
    "\n",
    "embeddings = OpenAIEmbeddings(model=\"text-embedding-3-small\")\n",
    "\n",
    "# # 디스크에서 문서를 로드합니다.\n",
    "persist_db = Chroma(\n",
    "    persist_directory=DB_PATH,\n",
    "    embedding_function=embeddings,\n",
    "    collection_name=\"rental_data_with_null\",\n",
    ")"
   ]
  },
  {
   "cell_type": "code",
   "execution_count": null,
   "metadata": {},
   "outputs": [],
   "source": [
    "persist_db.get()"
   ]
  },
  {
   "cell_type": "code",
   "execution_count": null,
   "metadata": {},
   "outputs": [],
   "source": [
    "# db_retriever = persist_db.as_retriever(search_kwargs={\"k\": 5})\n",
    "# a = db_retriever.invoke(\"300~400 중문 자취방 추천해줘\")\n",
    "# pretty_print_docs(a)"
   ]
  },
  {
   "cell_type": "code",
   "execution_count": null,
   "metadata": {},
   "outputs": [],
   "source": [
    "# 기본 chroma_retriever를 생성합니다.\n",
    "# chroma_retriever = persist_db.as_retriever(search_kwargs={\"k\": 3})"
   ]
  },
  {
   "cell_type": "code",
   "execution_count": null,
   "metadata": {},
   "outputs": [],
   "source": [
    "ret[1].metadata"
   ]
  },
  {
   "cell_type": "code",
   "execution_count": 14,
   "metadata": {},
   "outputs": [],
   "source": [
    "# self-query retriever\n",
    "from langchain.chains.query_constructor.base import AttributeInfo\n",
    "from langchain.retrievers.self_query.base import SelfQueryRetriever\n",
    "\n",
    "# 메타데이터 필드 정보 생성\n",
    "metadata_field_info = [\n",
    "    AttributeInfo(\n",
    "        name=\"place\",\n",
    "        description=\"The location information of the rental room. One of ['정문', '중문', '후문', '기숙사', '농가마트', '교육문화회관']\",\n",
    "        type=\"string\",\n",
    "    ),\n",
    "    AttributeInfo(\n",
    "        name=\"oneroom_half_year\",\n",
    "        description=\"The half-year rent price for a one-room unit.\",\n",
    "        type=\"integer\",\n",
    "    ),\n",
    "    AttributeInfo(\n",
    "        name=\"oneroom_year\",\n",
    "        description=\"The annual rent price for a one-room unit.\",\n",
    "        type=\"integer\",\n",
    "    ),\n",
    "    AttributeInfo(\n",
    "        name=\"tworoom_half_year\",\n",
    "        description=\"The half-year rent price for a two-room unit.\",\n",
    "        type=\"integer\",\n",
    "    ),\n",
    "    AttributeInfo(\n",
    "        name=\"tworoom_year\",\n",
    "        description=\"The annual rent price for a two-room unit.\",\n",
    "        type=\"integer\",\n",
    "    ),\n",
    "]"
   ]
  },
  {
   "cell_type": "code",
   "execution_count": 18,
   "metadata": {},
   "outputs": [],
   "source": [
    "from langchain.chains.query_constructor.base import (\n",
    "    StructuredQueryOutputParser,\n",
    "    get_query_constructor_prompt,\n",
    ")\n",
    "from langchain_openai import ChatOpenAI\n",
    "\n",
    "llm = ChatOpenAI(temperature=0, model=\"gpt-4o\")\n",
    "\n",
    "# 문서 내용 설명과 메타데이터 필드 정보를 사용하여 쿼리 생성기 프롬프트를 가져옵니다.\n",
    "prompt = get_query_constructor_prompt(\n",
    "    \"Brief summary of a rental room\",  # 문서 내용 설명\n",
    "    metadata_field_info,  # 메타데이터 필드 정보\n",
    ")\n",
    "\n",
    "# StructuredQueryOutputParser 를 생성\n",
    "output_parser = StructuredQueryOutputParser.from_components()\n",
    "\n",
    "# query_constructor chain 을 생성\n",
    "query_constructor = prompt | llm | output_parser"
   ]
  },
  {
   "cell_type": "code",
   "execution_count": 19,
   "metadata": {},
   "outputs": [],
   "source": [
    "from langchain.retrievers.self_query.chroma import ChromaTranslator\n",
    "\n",
    "retriever = SelfQueryRetriever(\n",
    "    query_constructor=query_constructor,  # 이전에 생성한 query_constructor chain 을 지정\n",
    "    vectorstore=persist_db,  # 벡터 저장소를 지정\n",
    "    structured_query_translator=ChromaTranslator(),  # 쿼리 변환기\n",
    "    search_kwargs={\"k\": 5},  # 검색 옵션\n",
    ")"
   ]
  },
  {
   "cell_type": "code",
   "execution_count": 23,
   "metadata": {},
   "outputs": [
    {
     "name": "stdout",
     "output_type": "stream",
     "text": [
      "palce 후문\n",
      "oneroom_half_year 0\n",
      "oneroom_year 400\n",
      "tworoom_half_year 0\n",
      "tworoom_year 0\n",
      "\n",
      "=====================================\n",
      "\n",
      "palce 후문\n",
      "oneroom_half_year 180\n",
      "oneroom_year 350\n",
      "tworoom_half_year 0\n",
      "tworoom_year 0\n",
      "\n",
      "=====================================\n",
      "\n",
      "palce 후문\n",
      "oneroom_half_year 0\n",
      "oneroom_year 360\n",
      "tworoom_half_year 0\n",
      "tworoom_year 0\n",
      "\n",
      "=====================================\n",
      "\n",
      "palce 후문\n",
      "oneroom_half_year 0\n",
      "oneroom_year 350\n",
      "tworoom_half_year 0\n",
      "tworoom_year 0\n",
      "\n",
      "=====================================\n",
      "\n",
      "palce 후문\n",
      "oneroom_half_year 0\n",
      "oneroom_year 340\n",
      "tworoom_half_year 0\n",
      "tworoom_year 0\n",
      "\n",
      "=====================================\n",
      "\n"
     ]
    }
   ],
   "source": [
    "result = retriever.invoke(\"년세 300~400 후문 자취방 추천해줘\")\n",
    "pretty_print_docs(result)"
   ]
  },
  {
   "cell_type": "code",
   "execution_count": null,
   "metadata": {},
   "outputs": [],
   "source": [
    "# from langchain_openai import ChatOpenAI\n",
    "\n",
    "# llm = ChatOpenAI(temperature=0, model=\"gpt-4o-mini\")\n",
    "\n",
    "# retriever = SelfQueryRetriever.from_llm(\n",
    "#     llm=llm,\n",
    "#     vectorstore=persist_db,\n",
    "#     document_contents=\"Brief summary of a rental room\",\n",
    "#     metadata_field_info=metadata_field_info,\n",
    "#     enable_limit=True,  # 검색 결과 제한 기능을 활성화합니다.\n",
    "#     search_kwargs={\"k\": 5},  # k 의 값을 2로 지정하여 검색 결과를 2개로 제한합니다.\n",
    "# )"
   ]
  },
  {
   "cell_type": "code",
   "execution_count": null,
   "metadata": {},
   "outputs": [],
   "source": [
    "# # # Self-query 검색\n",
    "# result=retriever.invoke(\"농가마트 근처 자취방 추천해주세요\")\n",
    "# pretty_print_docs(result)"
   ]
  },
  {
   "cell_type": "code",
   "execution_count": null,
   "metadata": {},
   "outputs": [],
   "source": []
  }
 ],
 "metadata": {
  "kernelspec": {
   "display_name": ".venv",
   "language": "python",
   "name": "python3"
  },
  "language_info": {
   "codemirror_mode": {
    "name": "ipython",
    "version": 3
   },
   "file_extension": ".py",
   "mimetype": "text/x-python",
   "name": "python",
   "nbconvert_exporter": "python",
   "pygments_lexer": "ipython3",
   "version": "3.11.9"
  }
 },
 "nbformat": 4,
 "nbformat_minor": 2
}
