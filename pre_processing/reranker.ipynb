{
 "cells": [
  {
   "cell_type": "code",
   "execution_count": 1,
   "metadata": {},
   "outputs": [
    {
     "name": "stdout",
     "output_type": "stream",
     "text": [
      "LangSmith 추적을 시작합니다.\n",
      "[프로젝트명]\n",
      "rented_room\n"
     ]
    }
   ],
   "source": [
    "# API 키를 환경변수로 관리하기 위한 설정 파일\n",
    "from dotenv import load_dotenv\n",
    "\n",
    "# LangSmith 추적을 설정합니다. https://smith.langchain.com\n",
    "# !pip install langchain-teddynote\n",
    "from langchain_teddynote import logging\n",
    "\n",
    "# API 키 정보 로드\n",
    "load_dotenv()\n",
    "\n",
    "# 프로젝트 이름을 입력합니다.\n",
    "logging.langsmith(\"rented_room\")"
   ]
  },
  {
   "cell_type": "code",
   "execution_count": 2,
   "metadata": {},
   "outputs": [],
   "source": [
    "# 문서를 예쁘게 출력하기 위한 도우미 함수\n",
    "def pretty_print_docs(docs):\n",
    "    for doc in docs:\n",
    "        print(doc)\n",
    "        print(\"\\n=====================================\\n\")\n",
    "        # print(\"palce\", doc.metadata[\"place\"])\n",
    "        # print(\"oneroom_half_year\", doc.metadata[\"oneroom_half_year\"])\n",
    "        # print(\"oneroom_year\", doc.metadata[\"oneroom_year\"])\n",
    "        # print(\"tworoom_half_year\", doc.metadata[\"tworoom_half_year\"])\n",
    "        # print(\"tworoom_year\", doc.metadata[\"tworoom_year\"])\n",
    "        # print(\"\\n=====================================\\n\")"
   ]
  },
  {
   "cell_type": "code",
   "execution_count": 3,
   "metadata": {},
   "outputs": [],
   "source": [
    "from langchain_chroma import Chroma\n",
    "from langchain_openai.embeddings import OpenAIEmbeddings\n",
    "\n",
    "# 저장할 경로 지정\n",
    "DB_PATH = \"./chroma_db\"\n",
    "\n",
    "embeddings = OpenAIEmbeddings(model=\"text-embedding-3-small\")\n",
    "\n",
    "# # 디스크에서 문서를 로드합니다.\n",
    "persist_db = Chroma(\n",
    "    persist_directory=DB_PATH,\n",
    "    embedding_function=embeddings,\n",
    "    # collection_name=\"rental_data_with_null\",\n",
    "    collection_name=\"rental_data_with_nan\",\n",
    ")"
   ]
  },
  {
   "cell_type": "code",
   "execution_count": null,
   "metadata": {},
   "outputs": [],
   "source": [
    "# 저장된 데이터 확인\n",
    "persist_db.get()"
   ]
  },
  {
   "cell_type": "code",
   "execution_count": null,
   "metadata": {},
   "outputs": [],
   "source": [
    "# retriever = persist_db.as_retriever(\n",
    "#     search_kwargs={\"k\": 5}\n",
    "# )\n",
    "\n",
    "# pretty_print_docs(retriever.invoke(\"농가마트 근처 자취방 추천해줘\"))"
   ]
  },
  {
   "cell_type": "code",
   "execution_count": 4,
   "metadata": {},
   "outputs": [],
   "source": [
    "# self-query retriever\n",
    "from langchain.chains.query_constructor.base import AttributeInfo\n",
    "from langchain.retrievers.self_query.base import SelfQueryRetriever\n",
    "\n",
    "# 메타데이터 필드 정보 생성\n",
    "metadata_field_info = [\n",
    "    AttributeInfo(\n",
    "        name=\"place\",\n",
    "        description=\"The location information of the rental room. One of ['정문', '중문', '후문', '기숙사', '농가마트', '교육문화회관']\",\n",
    "        type=\"string\",\n",
    "    ),\n",
    "    AttributeInfo(\n",
    "        name=\"oneroom_year\",\n",
    "        description=\"The annual rent price for a one-room unit.\",\n",
    "        type=\"float\",\n",
    "    ),\n",
    "    AttributeInfo(\n",
    "        name=\"oneroom_half_year\",\n",
    "        description=\"The half-year rent price for a one-room unit.\",\n",
    "        type=\"float\",\n",
    "    ),\n",
    "    AttributeInfo(\n",
    "        name=\"tworoom_half_year\",\n",
    "        description=\"The half-year rent price for a two-room unit.\",\n",
    "        type=\"float\",\n",
    "    ),\n",
    "    AttributeInfo(\n",
    "        name=\"tworoom_year\",\n",
    "        description=\"The annual rent price for a two-room unit.\",\n",
    "        type=\"float\",\n",
    "    ),\n",
    "]"
   ]
  },
  {
   "cell_type": "code",
   "execution_count": 5,
   "metadata": {},
   "outputs": [],
   "source": [
    "from langchain.chains.query_constructor.base import StructuredQuery\n",
    "from langchain.chains.query_constructor.base import Comparison, Comparator, Operation\n",
    "from langchain.schema.runnable import Runnable\n",
    "\n",
    "class FilterTransformRunnable(Runnable):\n",
    "    def invoke(self, structured_query: StructuredQuery, config=None) -> StructuredQuery:\n",
    "        # contain -> eq 변환을 적용\n",
    "        return preprocess_and_wrap_structured_query(structured_query)\n",
    "\n",
    "\n",
    "def preprocess_and_wrap_structured_query(query: StructuredQuery) -> StructuredQuery:\n",
    "    # 기존 필터를 변환\n",
    "    if query.filter:\n",
    "        transformed_filter = replace_contain_with_eq(query.filter)\n",
    "    else:\n",
    "        transformed_filter = None\n",
    "\n",
    "    # 새로운 StructuredQuery 객체 생성\n",
    "    return StructuredQuery(\n",
    "        query=query.query, filter=transformed_filter, limit=query.limit\n",
    "    )\n",
    "\n",
    "\n",
    "def replace_contain_with_eq(filter):\n",
    "    if isinstance(filter, Comparison):\n",
    "        if filter.comparator == Comparator.CONTAIN:\n",
    "            # contain을 eq로 변환\n",
    "            return Comparison(\n",
    "                comparator=Comparator.EQ, attribute=filter.attribute, value=filter.value\n",
    "            )\n",
    "        elif filter.comparator == Comparator.LIKE:\n",
    "            # contain을 eq로 변환\n",
    "            return Comparison(\n",
    "                comparator=Comparator.EQ,\n",
    "                attribute=filter.attribute,\n",
    "                value=filter.value.replace(\"%\", \"\"),\n",
    "            )\n",
    "        return filter\n",
    "    elif isinstance(filter, Operation):\n",
    "        # Operation 객체의 조건들도 변환\n",
    "        return Operation(\n",
    "            operator=filter.operator,\n",
    "            arguments=[replace_contain_with_eq(arg) for arg in filter.arguments],\n",
    "        )\n",
    "    return filter"
   ]
  },
  {
   "cell_type": "code",
   "execution_count": 6,
   "metadata": {},
   "outputs": [],
   "source": [
    "from langchain.chains.query_constructor.base import (\n",
    "    StructuredQueryOutputParser,\n",
    "    get_query_constructor_prompt,\n",
    ")\n",
    "from langchain_openai import ChatOpenAI\n",
    "from langchain_google_genai import ChatGoogleGenerativeAI\n",
    "\n",
    "# llm = ChatGoogleGenerativeAI(temperature=0, model=\"gemini-1.5-flash\")\n",
    "llm = ChatOpenAI(temperature=0, model=\"gpt-4o\")\n",
    "\n",
    "# 문서 내용 설명과 메타데이터 필드 정보를 사용하여 쿼리 생성기 프롬프트를 가져옵니다.\n",
    "prompt = get_query_constructor_prompt(\n",
    "    \"Brief summary of a rental room\",  # 문서 내용 설명\n",
    "    metadata_field_info,  # 메타데이터 필드 정보\n",
    ")\n",
    "\n",
    "# StructuredQueryOutputParser 를 생성\n",
    "output_parser = StructuredQueryOutputParser.from_components()\n",
    "\n",
    "# 변환 작업을 Runnable로 추가\n",
    "filter_transform = FilterTransformRunnable()\n",
    "\n",
    "# query_constructor chain 을 생성\n",
    "query_constructor = prompt | llm | output_parser | filter_transform"
   ]
  },
  {
   "cell_type": "code",
   "execution_count": 7,
   "metadata": {},
   "outputs": [
    {
     "data": {
      "text/plain": [
       "StructuredQuery(query='자취방 추천', filter=Operation(operator=<Operator.AND: 'and'>, arguments=[Comparison(comparator=<Comparator.GTE: 'gte'>, attribute='oneroom_year', value=250), Comparison(comparator=<Comparator.EQ: 'eq'>, attribute='place', value='정문')]), limit=None)"
      ]
     },
     "execution_count": 7,
     "metadata": {},
     "output_type": "execute_result"
    }
   ],
   "source": [
    "query_constructor.invoke(\"연세 250이상인 정문 자취방 추천해줘\")"
   ]
  },
  {
   "cell_type": "code",
   "execution_count": 8,
   "metadata": {},
   "outputs": [],
   "source": [
    "from langchain.retrievers.self_query.chroma import ChromaTranslator\n",
    "\n",
    "retriever = SelfQueryRetriever(\n",
    "    query_constructor=query_constructor,  # 이전에 생성한 query_constructor chain 을 지정\n",
    "    vectorstore=persist_db,  # 벡터 저장소를 지정\n",
    "    structured_query_translator=ChromaTranslator(),  # 쿼리 변환기\n",
    "    search_kwargs={\"k\": 10},  # 검색 옵션\n",
    ")"
   ]
  },
  {
   "cell_type": "code",
   "execution_count": 9,
   "metadata": {},
   "outputs": [
    {
     "name": "stdout",
     "output_type": "stream",
     "text": [
      "page_content='<row><name>엘림원룸</name><address>호서로 65-8</address><contact>010-6587-1255</contact><price>년세 큰 방 320 / 작은 방 290</price><fee>X / 30만원</fee><options>풀옵션</options><gas_type>심야전기</gas_type><comment>방크기는 집주인에게 직접 문의</comment><place>정문</place><oneroom_half_year></oneroom_half_year><oneroom_year>320</oneroom_year><tworoom_half_year></tworoom_half_year><tworoom_year></tworoom_year></row>\n",
      "\n",
      "' metadata={'filename': '../data/csv_data/rental_data_with_null.csv', 'oneroom_year': 320.0, 'place': '정문', 'row': 53, 'source': '../data/csv_data/rental_data_with_null.csv'}\n",
      "\n",
      "=====================================\n",
      "\n",
      "page_content='<row><name>준원룸</name><address>호서로 67-13</address><contact>010-4929-9598</contact><price>년세 큰 방 330 / 작은 방 300</price><fee>X / 30만원</fee><options>풀옵션 (인터넷 무료)</options><gas_type>도시가스</gas_type><comment>퇴실 시, 청소비 청구</comment><place>정문</place><oneroom_half_year></oneroom_half_year><oneroom_year>330</oneroom_year><tworoom_half_year></tworoom_half_year><tworoom_year></tworoom_year></row>\n",
      "\n",
      "' metadata={'filename': '../data/csv_data/rental_data_with_null.csv', 'oneroom_year': 330.0, 'place': '정문', 'row': 54, 'source': '../data/csv_data/rental_data_with_null.csv'}\n",
      "\n",
      "=====================================\n",
      "\n",
      "page_content='<row><name>솔원룸</name><address>호서로 67-6</address><contact>010-6436-2816</contact><price>년세 340 / 반년세 180</price><fee>X / 년세 30만원 반년세 15만원</fee><options>풀옵션</options><gas_type>도시가스</gas_type><comment></comment><place>정문</place><oneroom_half_year>180</oneroom_half_year><oneroom_year>340</oneroom_year><tworoom_half_year></tworoom_half_year><tworoom_year></tworoom_year></row>\n",
      "\n",
      "' metadata={'filename': '../data/csv_data/rental_data_with_null.csv', 'oneroom_half_year': 180.0, 'oneroom_year': 340.0, 'place': '정문', 'row': 56, 'source': '../data/csv_data/rental_data_with_null.csv'}\n",
      "\n",
      "=====================================\n",
      "\n",
      "page_content='<row><name>우리원룸</name><address>호서로 69-16</address><contact>010-5049-8871</contact><price>년세 큰 방 330 / 작은 방 230</price><fee>X</fee><options>풀옵션</options><gas_type>도시가스</gas_type><comment></comment><place>정문</place><oneroom_half_year></oneroom_half_year><oneroom_year>330</oneroom_year><tworoom_half_year></tworoom_half_year><tworoom_year></tworoom_year></row>\n",
      "\n",
      "' metadata={'filename': '../data/csv_data/rental_data_with_null.csv', 'oneroom_year': 330.0, 'place': '정문', 'row': 58, 'source': '../data/csv_data/rental_data_with_null.csv'}\n",
      "\n",
      "=====================================\n",
      "\n",
      "page_content='<row><name>인천빌라</name><address>호서로 69-6</address><contact>010-2327-7981</contact><price>년세 220</price><fee>X / 10만원</fee><options: LPG/심야전기/도시가스>심야전기</options: LPG/심야전기/도시가스><gas_type>심야전기</gas_type><comment></comment><place>정문</place><oneroom_half_year></oneroom_half_year><oneroom_year>220</oneroom_year><tworoom_half_year></tworoom_half_year><tworoom_year></tworoom_year></row>\n",
      "\n",
      "' metadata={'filename': '../data/csv_data/rental_data_with_null.csv', 'oneroom_year': 220.0, 'place': '정문', 'row': 57, 'source': '../data/csv_data/rental_data_with_null.csv'}\n",
      "\n",
      "=====================================\n",
      "\n"
     ]
    }
   ],
   "source": [
    "pretty_print_docs(retriever.invoke(\"년세 350이하 정문 자취방 추천해줘\"))"
   ]
  },
  {
   "cell_type": "code",
   "execution_count": 10,
   "metadata": {},
   "outputs": [],
   "source": [
    "from langchain.retrievers import ContextualCompressionRetriever\n",
    "from langchain.retrievers.document_compressors import CrossEncoderReranker\n",
    "from langchain_community.cross_encoders import HuggingFaceCrossEncoder\n",
    "\n",
    "# 모델 초기화\n",
    "model = HuggingFaceCrossEncoder(model_name=\"BAAI/bge-reranker-v2-m3\")\n",
    "\n",
    "# 상위 3개의 문서 선택\n",
    "compressor = CrossEncoderReranker(model=model, top_n=4)\n",
    "\n",
    "# 문서 압축 검색기 초기화\n",
    "compression_retriever = ContextualCompressionRetriever(\n",
    "    base_compressor=compressor, base_retriever=retriever\n",
    ")\n",
    "\n",
    "# 압축된 문서 검색\n",
    "# compressed_docs = compression_retriever.invoke(\"중문 자취방 추천해줘\")\n",
    "\n",
    "# # 문서 출력\n",
    "# pretty_print_docs(compressed_docs)"
   ]
  },
  {
   "cell_type": "code",
   "execution_count": null,
   "metadata": {},
   "outputs": [],
   "source": [
    "# 압축된 문서 검색\n",
    "compressed_docs = compression_retriever.invoke(\"년세 250이상인 정문 자취방 추천해줘\")\n",
    "\n",
    "# 문서 출력\n",
    "pretty_print_docs(compressed_docs)"
   ]
  },
  {
   "cell_type": "code",
   "execution_count": null,
   "metadata": {},
   "outputs": [],
   "source": [
    "# from langchain import hub\n",
    "\n",
    "# prompt = hub.pull(\"rlm/rag-prompt-mistral\")"
   ]
  },
  {
   "cell_type": "code",
   "execution_count": 11,
   "metadata": {},
   "outputs": [
    {
     "data": {
      "text/plain": [
       "PromptTemplate(input_variables=['context', 'question'], input_types={}, partial_variables={}, template='You are a Q&A assistant specializing in providing information about rental housing.\\nAnswer user questions with concise and practical advice. \\n\\n# Requirements\\nFew-shot examples must meet all the following conditions:\\n\\n1. The {context} information must be provided in accordance with the one-shot example format answer format.\\n2. One-shot example format If you don\\'t know the value when you write it, don\\'t fill it out and move on\\n3. The answer format must fit the template provided.\\n4. The information should be specific and practical in accordance with the requirements of the user question.\\n5. Each item (name, address, price, etc.) must be filled realistically, and blank or meaningless values are not allowed.\\n6. If you don\\'t have a context, please answer with \"죄송합니다. 더 자세하게 질문해주시면 감사하겠습니다.\".\\n7. For information with <comment></comment> tag, do not write \"참고사항:\"\\n8. For information with <gas_type></gas_type> tag, do not write \"가스 종류:\"\\n\\n\\n# Constraints\\none-shot example must not meet the following conditions:\\n\\n1. It should not contain unrealistic or ambiguous information (e.g. \"Unknown\", \"Provide Later\").\\n2. It should not follow the template format or have any missing items.\\n3. Answers that are not related to the requirements of the question are not allowed.\\n4. Don\\'t write about information you don\\'t have.\\n\\n# one-shot example format:\\nQ: Can you recommend a room under 3 million won per year?\\n이름: \\n주소: \\n가격: \\n보증금/관리비: \\n옵션: \\n가스 종류: \\n참고사항: \\n위치: \\n\\n이름:  \\n주소: \\n가격: \\n보증금/관리비: \\n옵션: \\n가스 종류: \\n참고사항: \\n위치: \\n\\n이름:  \\n주소: \\n가격: \\n보증금/관리비: \\n옵션: \\n가스 종류: \\n참고사항:\\n위치: \\n\\n더 상세한 정보는 아래 연락처로 문의해주세요.\\n\\n이름 - 연락처\\n이름 - 연락처\\n이름 - 연락처\\n\\n# Question\\nQ: {question}\\n')"
      ]
     },
     "execution_count": 11,
     "metadata": {},
     "output_type": "execute_result"
    }
   ],
   "source": [
    "from langchain_core.prompts import load_prompt\n",
    "\n",
    "prompt=load_prompt(\"../prompts/rented_room.yaml\")\n",
    "prompt"
   ]
  },
  {
   "cell_type": "code",
   "execution_count": 12,
   "metadata": {},
   "outputs": [],
   "source": [
    "from langchain_core.runnables import RunnablePassthrough\n",
    "from langchain_core.output_parsers import StrOutputParser\n",
    "\n",
    "chain = (\n",
    "    {\"context\": retriever, \"question\": RunnablePassthrough()}\n",
    "    | prompt\n",
    "    | llm\n",
    "    | StrOutputParser()\n",
    ")"
   ]
  },
  {
   "cell_type": "code",
   "execution_count": 13,
   "metadata": {},
   "outputs": [
    {
     "name": "stdout",
     "output_type": "stream",
     "text": [
      "이름: 솔원룸  \n",
      "주소: 호서로 67-6  \n",
      "가격: 반년세 180  \n",
      "보증금/관리비: 년세 30만원 반년세 15만원  \n",
      "옵션: 풀옵션  \n",
      "위치: 정문  \n",
      "\n",
      "이름: H. S캐슬  \n",
      "주소: 호서로 79번길 7-3  \n",
      "가격: 반년세 220  \n",
      "보증금/관리비: 30만원  \n",
      "옵션: 풀옵션  \n",
      "위치: 정문  \n",
      "\n",
      "더 상세한 정보는 아래 연락처로 문의해주세요.\n",
      "\n",
      "솔원룸 - 010-6436-2816  \n",
      "H. S캐슬 - 010-3898-9441  \n"
     ]
    }
   ],
   "source": [
    "answer=chain.invoke(\"반년세 100~250 사이인 정문 자취방 추천해줘\")\n",
    "print(answer)"
   ]
  },
  {
   "cell_type": "code",
   "execution_count": null,
   "metadata": {},
   "outputs": [],
   "source": []
  }
 ],
 "metadata": {
  "kernelspec": {
   "display_name": "rented-rooms-vxblrltv-py3.11",
   "language": "python",
   "name": "python3"
  },
  "language_info": {
   "codemirror_mode": {
    "name": "ipython",
    "version": 3
   },
   "file_extension": ".py",
   "mimetype": "text/x-python",
   "name": "python",
   "nbconvert_exporter": "python",
   "pygments_lexer": "ipython3",
   "version": "3.11.11"
  }
 },
 "nbformat": 4,
 "nbformat_minor": 2
}
