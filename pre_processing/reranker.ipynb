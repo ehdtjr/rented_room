{
 "cells": [
  {
   "cell_type": "code",
   "execution_count": null,
   "metadata": {},
   "outputs": [],
   "source": [
    "# API 키를 환경변수로 관리하기 위한 설정 파일\n",
    "from dotenv import load_dotenv\n",
    "\n",
    "# LangSmith 추적을 설정합니다. https://smith.langchain.com\n",
    "# !pip install langchain-teddynote\n",
    "from langchain_teddynote import logging\n",
    "\n",
    "# API 키 정보 로드\n",
    "load_dotenv()\n",
    "\n",
    "# 프로젝트 이름을 입력합니다.\n",
    "logging.langsmith(\"rented_room\")"
   ]
  },
  {
   "cell_type": "code",
   "execution_count": 11,
   "metadata": {},
   "outputs": [],
   "source": [
    "# 문서를 예쁘게 출력하기 위한 도우미 함수\n",
    "def pretty_print_docs(docs):\n",
    "    for doc in docs:\n",
    "        print(doc)\n",
    "        print(\"\\n=====================================\\n\")\n",
    "        # print(\"palce\", doc.metadata[\"place\"])\n",
    "        # print(\"oneroom_half_year\", doc.metadata[\"oneroom_half_year\"])\n",
    "        # print(\"oneroom_year\", doc.metadata[\"oneroom_year\"])\n",
    "        # print(\"tworoom_half_year\", doc.metadata[\"tworoom_half_year\"])\n",
    "        # print(\"tworoom_year\", doc.metadata[\"tworoom_year\"])\n",
    "        # print(\"\\n=====================================\\n\")"
   ]
  },
  {
   "cell_type": "code",
   "execution_count": 8,
   "metadata": {},
   "outputs": [],
   "source": [
    "from langchain_chroma import Chroma\n",
    "from langchain_openai.embeddings import OpenAIEmbeddings\n",
    "\n",
    "# 저장할 경로 지정\n",
    "DB_PATH = \"./chroma_db\"\n",
    "\n",
    "embeddings = OpenAIEmbeddings(model=\"text-embedding-3-small\")\n",
    "\n",
    "# # 디스크에서 문서를 로드합니다.\n",
    "persist_db = Chroma(\n",
    "    persist_directory=DB_PATH,\n",
    "    embedding_function=embeddings,\n",
    "    # collection_name=\"rental_data_with_null\",\n",
    "    collection_name=\"rental_data_with_nan\",\n",
    ")"
   ]
  },
  {
   "cell_type": "code",
   "execution_count": null,
   "metadata": {},
   "outputs": [],
   "source": [
    "# 저장된 데이터 확인\n",
    "persist_db.get()"
   ]
  },
  {
   "cell_type": "code",
   "execution_count": null,
   "metadata": {},
   "outputs": [],
   "source": [
    "# retriever = persist_db.as_retriever(\n",
    "#     search_kwargs={\"k\": 5}\n",
    "# )\n",
    "\n",
    "# pretty_print_docs(retriever.invoke(\"농가마트 근처 자취방 추천해줘\"))"
   ]
  },
  {
   "cell_type": "code",
   "execution_count": 3,
   "metadata": {},
   "outputs": [],
   "source": [
    "# self-query retriever\n",
    "from langchain.chains.query_constructor.base import AttributeInfo\n",
    "from langchain.retrievers.self_query.base import SelfQueryRetriever\n",
    "\n",
    "# 메타데이터 필드 정보 생성\n",
    "metadata_field_info = [\n",
    "    AttributeInfo(\n",
    "        name=\"place\",\n",
    "        description=\"The location information of the rental room. One of ['정문', '중문', '후문', '기숙사', '농가마트', '교육문화회관']\",\n",
    "        type=\"string\",\n",
    "    ),\n",
    "    AttributeInfo(\n",
    "        name=\"oneroom_year\",\n",
    "        description=\"The annual rent price for a one-room unit.\",\n",
    "        type=\"float\",\n",
    "    ),\n",
    "    AttributeInfo(\n",
    "        name=\"oneroom_half_year\",\n",
    "        description=\"The half-year rent price for a one-room unit.\",\n",
    "        type=\"float\",\n",
    "    ),\n",
    "    AttributeInfo(\n",
    "        name=\"tworoom_half_year\",\n",
    "        description=\"The half-year rent price for a two-room unit.\",\n",
    "        type=\"float\",\n",
    "    ),\n",
    "    AttributeInfo(\n",
    "        name=\"tworoom_year\",\n",
    "        description=\"The annual rent price for a two-room unit.\",\n",
    "        type=\"float\",\n",
    "    ),\n",
    "]"
   ]
  },
  {
   "cell_type": "code",
   "execution_count": 4,
   "metadata": {},
   "outputs": [],
   "source": [
    "from langchain.chains.query_constructor.base import StructuredQuery\n",
    "from langchain.chains.query_constructor.base import Comparison, Comparator, Operation\n",
    "from langchain.schema.runnable import Runnable\n",
    "\n",
    "class FilterTransformRunnable(Runnable):\n",
    "    def invoke(self, structured_query: StructuredQuery, config=None) -> StructuredQuery:\n",
    "        # contain -> eq 변환을 적용\n",
    "        return preprocess_and_wrap_structured_query(structured_query)\n",
    "\n",
    "\n",
    "def preprocess_and_wrap_structured_query(query: StructuredQuery) -> StructuredQuery:\n",
    "    # 기존 필터를 변환\n",
    "    if query.filter:\n",
    "        transformed_filter = replace_contain_with_eq(query.filter)\n",
    "    else:\n",
    "        transformed_filter = None\n",
    "\n",
    "    # 새로운 StructuredQuery 객체 생성\n",
    "    return StructuredQuery(\n",
    "        query=query.query, filter=transformed_filter, limit=query.limit\n",
    "    )\n",
    "\n",
    "\n",
    "def replace_contain_with_eq(filter):\n",
    "    if isinstance(filter, Comparison):\n",
    "        if filter.comparator == Comparator.CONTAIN:\n",
    "            # contain을 eq로 변환\n",
    "            return Comparison(\n",
    "                comparator=Comparator.EQ, attribute=filter.attribute, value=filter.value\n",
    "            )\n",
    "        elif filter.comparator == Comparator.LIKE:\n",
    "            # contain을 eq로 변환\n",
    "            return Comparison(\n",
    "                comparator=Comparator.EQ,\n",
    "                attribute=filter.attribute,\n",
    "                value=filter.value.replace(\"%\", \"\"),\n",
    "            )\n",
    "        return filter\n",
    "    elif isinstance(filter, Operation):\n",
    "        # Operation 객체의 조건들도 변환\n",
    "        return Operation(\n",
    "            operator=filter.operator,\n",
    "            arguments=[replace_contain_with_eq(arg) for arg in filter.arguments],\n",
    "        )\n",
    "    return filter"
   ]
  },
  {
   "cell_type": "code",
   "execution_count": 37,
   "metadata": {},
   "outputs": [],
   "source": [
    "from langchain.chains.query_constructor.base import (\n",
    "    StructuredQueryOutputParser,\n",
    "    get_query_constructor_prompt,\n",
    ")\n",
    "from langchain_openai import ChatOpenAI\n",
    "from langchain_google_genai import ChatGoogleGenerativeAI\n",
    "\n",
    "# llm = ChatGoogleGenerativeAI(temperature=0, model=\"gemini-1.5-flash\")\n",
    "llm = ChatOpenAI(temperature=0, model=\"gpt-4o\")\n",
    "\n",
    "# 문서 내용 설명과 메타데이터 필드 정보를 사용하여 쿼리 생성기 프롬프트를 가져옵니다.\n",
    "prompt = get_query_constructor_prompt(\n",
    "    \"Brief summary of a rental room\",  # 문서 내용 설명\n",
    "    metadata_field_info,  # 메타데이터 필드 정보\n",
    ")\n",
    "\n",
    "# StructuredQueryOutputParser 를 생성\n",
    "output_parser = StructuredQueryOutputParser.from_components()\n",
    "\n",
    "# 변환 작업을 Runnable로 추가\n",
    "filter_transform = FilterTransformRunnable()\n",
    "\n",
    "# query_constructor chain 을 생성\n",
    "query_constructor = prompt | llm | output_parser | filter_transform"
   ]
  },
  {
   "cell_type": "code",
   "execution_count": null,
   "metadata": {},
   "outputs": [],
   "source": [
    "query_constructor.invoke(\"연세 250이상인 정문 자취방 추천해줘\")"
   ]
  },
  {
   "cell_type": "code",
   "execution_count": 40,
   "metadata": {},
   "outputs": [],
   "source": [
    "from langchain.retrievers.self_query.chroma import ChromaTranslator\n",
    "\n",
    "retriever = SelfQueryRetriever(\n",
    "    query_constructor=query_constructor,  # 이전에 생성한 query_constructor chain 을 지정\n",
    "    vectorstore=persist_db,  # 벡터 저장소를 지정\n",
    "    structured_query_translator=ChromaTranslator(),  # 쿼리 변환기\n",
    "    search_kwargs={\"k\": 10},  # 검색 옵션\n",
    ")"
   ]
  },
  {
   "cell_type": "code",
   "execution_count": null,
   "metadata": {},
   "outputs": [],
   "source": [
    "pretty_print_docs(retriever.invoke(\"년세 350이하 정문 자취방 추천해줘\"))"
   ]
  },
  {
   "cell_type": "code",
   "execution_count": 32,
   "metadata": {},
   "outputs": [],
   "source": [
    "from langchain.retrievers import ContextualCompressionRetriever\n",
    "from langchain.retrievers.document_compressors import CrossEncoderReranker\n",
    "from langchain_community.cross_encoders import HuggingFaceCrossEncoder\n",
    "\n",
    "# 모델 초기화\n",
    "model = HuggingFaceCrossEncoder(model_name=\"BAAI/bge-reranker-v2-m3\")\n",
    "\n",
    "# 상위 3개의 문서 선택\n",
    "compressor = CrossEncoderReranker(model=model, top_n=4)\n",
    "\n",
    "# 문서 압축 검색기 초기화\n",
    "compression_retriever = ContextualCompressionRetriever(\n",
    "    base_compressor=compressor, base_retriever=retriever\n",
    ")\n",
    "\n",
    "# 압축된 문서 검색\n",
    "# compressed_docs = compression_retriever.invoke(\"중문 자취방 추천해줘\")\n",
    "\n",
    "# # 문서 출력\n",
    "# pretty_print_docs(compressed_docs)"
   ]
  },
  {
   "cell_type": "code",
   "execution_count": null,
   "metadata": {},
   "outputs": [],
   "source": [
    "# 압축된 문서 검색\n",
    "compressed_docs = compression_retriever.invoke(\"년세 250이상인 정문 자취방 추천해줘\")\n",
    "\n",
    "# 문서 출력\n",
    "pretty_print_docs(compressed_docs)"
   ]
  },
  {
   "cell_type": "code",
   "execution_count": null,
   "metadata": {},
   "outputs": [],
   "source": [
    "# from langchain import hub\n",
    "\n",
    "# prompt = hub.pull(\"rlm/rag-prompt-mistral\")"
   ]
  },
  {
   "cell_type": "code",
   "execution_count": null,
   "metadata": {},
   "outputs": [],
   "source": [
    "from langchain_core.prompts import load_prompt\n",
    "\n",
    "prompt=load_prompt(\"../prompts/rented_room.yaml\")\n",
    "prompt"
   ]
  },
  {
   "cell_type": "code",
   "execution_count": 44,
   "metadata": {},
   "outputs": [],
   "source": [
    "from langchain_core.runnables import RunnablePassthrough\n",
    "from langchain_core.output_parsers import StrOutputParser\n",
    "\n",
    "chain = (\n",
    "    {\"context\": retriever, \"question\": RunnablePassthrough()}\n",
    "    | prompt\n",
    "    | llm\n",
    "    | StrOutputParser()\n",
    ")"
   ]
  },
  {
   "cell_type": "code",
   "execution_count": null,
   "metadata": {},
   "outputs": [],
   "source": [
    "answer=chain.invoke(\"반년세 100~250 사이인 정문 자취방 추천해줘\")\n",
    "print(answer)"
   ]
  },
  {
   "cell_type": "code",
   "execution_count": null,
   "metadata": {},
   "outputs": [],
   "source": []
  }
 ],
 "metadata": {
  "kernelspec": {
   "display_name": "rented-rooms-vxblrltv-py3.11",
   "language": "python",
   "name": "python3"
  },
  "language_info": {
   "codemirror_mode": {
    "name": "ipython",
    "version": 3
   },
   "file_extension": ".py",
   "mimetype": "text/x-python",
   "name": "python",
   "nbconvert_exporter": "python",
   "pygments_lexer": "ipython3",
   "version": "3.11.11"
  }
 },
 "nbformat": 4,
 "nbformat_minor": 2
}
