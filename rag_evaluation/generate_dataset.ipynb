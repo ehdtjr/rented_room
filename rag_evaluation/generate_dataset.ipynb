{
 "cells": [
  {
   "cell_type": "code",
   "execution_count": null,
   "metadata": {},
   "outputs": [],
   "source": [
    "!pip install -q langchain==0.2.16\n",
    "!pip install -q ragas==0.1.19"
   ]
  },
  {
   "cell_type": "code",
   "execution_count": null,
   "metadata": {},
   "outputs": [],
   "source": [
    "# API 키를 환경변수로 관리하기 위한 설정 파일\n",
    "from dotenv import load_dotenv\n",
    "\n",
    "# LangSmith 추적을 설정합니다. https://smith.langchain.com\n",
    "# !pip install langchain-teddynote\n",
    "from langchain_teddynote import logging\n",
    "\n",
    "# API 키 정보 로드\n",
    "load_dotenv()\n",
    "\n",
    "# 프로젝트 이름을 입력합니다.\n",
    "# logging.langsmith(\"rag_evaluation\")"
   ]
  },
  {
   "cell_type": "code",
   "execution_count": null,
   "metadata": {},
   "outputs": [],
   "source": [
    "from langchain_community.document_loaders.csv_loader import CSVLoader\n",
    "import csv\n",
    "\n",
    "file_path = \"../data/csv_data/rental_data_with_null.csv\"\n",
    "\n",
    "\n",
    "def get_csv_headers(file_path):\n",
    "    with open(file_path, mode=\"r\", encoding=\"utf-8\") as csvfile:\n",
    "        reader = csv.reader(csvfile)\n",
    "        headers = next(reader)  # 첫 번째 줄(헤더) 가져오기\n",
    "    return headers\n",
    "\n",
    "\n",
    "headers = get_csv_headers(file_path)\n",
    "\n",
    "# CSV 로더 생성\n",
    "loader = CSVLoader(\n",
    "    file_path=file_path,\n",
    "    csv_args={\n",
    "        \"delimiter\": \",\",\n",
    "        \"quotechar\": '\"',\n",
    "        \"fieldnames\": headers,\n",
    "    },\n",
    "    # source_column=\"place\",\n",
    "    content_columns=headers,\n",
    "    metadata_columns=[\n",
    "        \"place\",\n",
    "        \"oneroom_half_year\",\n",
    "        \"oneroom_year\",\n",
    "        \"tworoom_half_year\",\n",
    "        \"tworoom_year\",\n",
    "    ],\n",
    ")\n",
    "docs = loader.load()\n",
    "print(docs[1].metadata)"
   ]
  },
  {
   "cell_type": "code",
   "execution_count": null,
   "metadata": {},
   "outputs": [],
   "source": [
    "# metadata 값을 integer로 변환하는 함수\n",
    "def convert_metadata_to_int(docs, columns_to_convert):\n",
    "    \"\"\"\n",
    "    문서 리스트의 metadata 값을 integer로 변환하는 함수.\n",
    "    \n",
    "    Args:\n",
    "        docs: CSVLoader에서 로드된 문서 리스트.\n",
    "        columns_to_convert: integer로 변환할 열 이름 리스트.\n",
    "\n",
    "    Returns:\n",
    "        변환된 문서 리스트.\n",
    "    \"\"\"\n",
    "    for doc in docs:\n",
    "        for column in columns_to_convert:\n",
    "            if column in doc.metadata:\n",
    "                try:\n",
    "                    # metadata 값을 integer로 변환\n",
    "                    doc.metadata[column] = float(doc.metadata[column])\n",
    "                except ValueError:\n",
    "                    # 변환 실패 시 NaN 또는 다른 처리 (여기서는 0으로 설정)\n",
    "                    doc.metadata[column] = float('nan')\n",
    "    return docs\n",
    "\n",
    "# 변환할 열 이름 리스트\n",
    "columns_to_convert = [\n",
    "    \"oneroom_half_year\",\n",
    "    \"oneroom_year\",\n",
    "    \"tworoom_half_year\",\n",
    "    \"tworoom_year\",\n",
    "]\n",
    "\n",
    "# metadata 값을 integer로 변환\n",
    "docs = convert_metadata_to_int(docs, columns_to_convert)"
   ]
  },
  {
   "cell_type": "code",
   "execution_count": null,
   "metadata": {},
   "outputs": [],
   "source": [
    "i = 1\n",
    "\n",
    "for doc in docs[i:]:\n",
    "    row = doc.page_content.split(\"\\n\")\n",
    "    row_str = \"<row>\"\n",
    "    for element in row:\n",
    "        splitted_element = element.split(\":\")\n",
    "        value = splitted_element[-1]\n",
    "        col = \":\".join(splitted_element[:-1])\n",
    "        row_str += f\"<{col}>{value.strip()}</{col}>\"\n",
    "    row_str += \"</row>\\n\\n\"\n",
    "\n",
    "    docs[i].page_content = row_str\n",
    "    i += 1\n",
    "    # print(ret[i].page_content)\n",
    "    # ret += row_str\n",
    "\n",
    "ret = docs"
   ]
  },
  {
   "cell_type": "code",
   "execution_count": null,
   "metadata": {},
   "outputs": [],
   "source": [
    "# 각 문서에 파일 이름을 추가합니다.\n",
    "for i in ret[1:]:\n",
    "    i.metadata[\"filename\"] = i.metadata[\"source\"]"
   ]
  },
  {
   "cell_type": "code",
   "execution_count": null,
   "metadata": {},
   "outputs": [],
   "source": [
    "ret[1].metadata"
   ]
  },
  {
   "cell_type": "code",
   "execution_count": null,
   "metadata": {},
   "outputs": [],
   "source": [
    "from ragas.testset.generator import TestsetGenerator\n",
    "from ragas.testset.evolutions import simple, reasoning, multi_context, conditional\n",
    "from ragas.llms import LangchainLLMWrapper\n",
    "from ragas.embeddings import LangchainEmbeddingsWrapper\n",
    "from ragas.testset.extractor import KeyphraseExtractor\n",
    "from ragas.testset.docstore import InMemoryDocumentStore\n",
    "\n",
    "from langchain_openai import ChatOpenAI, OpenAIEmbeddings\n",
    "from langchain.text_splitter import RecursiveCharacterTextSplitter\n",
    "\n",
    "# 데이터셋 생성기\n",
    "generator_llm = ChatOpenAI(model=\"gpt-4o-mini\")\n",
    "# 데이터셋 비평기\n",
    "critic_llm = ChatOpenAI(model=\"gpt-4o-mini\")\n",
    "# 문서 임베딩\n",
    "embeddings = OpenAIEmbeddings(model=\"text-embedding-3-small\")"
   ]
  },
  {
   "cell_type": "code",
   "execution_count": null,
   "metadata": {},
   "outputs": [],
   "source": [
    "# 텍스트 분할기를 설정합니다.\n",
    "splitter = RecursiveCharacterTextSplitter(chunk_size=500, chunk_overlap=0)\n",
    "\n",
    "# LangChain의 ChatOpenAI 모델을 LangchainLLMWrapper로 감싸 Ragas와 호환되게 만듭니다.\n",
    "langchain_llm = LangchainLLMWrapper(ChatOpenAI(model=\"gpt-4o-mini\"))\n",
    "\n",
    "# 주요 구문 추출기를 초기화합니다. 위에서 정의한 LLM을 사용합니다.\n",
    "keyphrase_extractor = KeyphraseExtractor(llm=langchain_llm)\n",
    "\n",
    "# ragas_embeddings 생성\n",
    "ragas_embeddings = LangchainEmbeddingsWrapper(embeddings)\n",
    "\n",
    "# InMemoryDocumentStore를 초기화합니다.\n",
    "# 이는 문서를 메모리에 저장하고 관리하는 저장소입니다.\n",
    "docstore = InMemoryDocumentStore(\n",
    "    splitter=splitter,\n",
    "    embeddings=ragas_embeddings,\n",
    "    extractor=keyphrase_extractor,\n",
    ")"
   ]
  },
  {
   "cell_type": "code",
   "execution_count": null,
   "metadata": {},
   "outputs": [],
   "source": [
    "generator = TestsetGenerator.from_langchain(\n",
    "    generator_llm,\n",
    "    critic_llm,\n",
    "    ragas_embeddings,\n",
    "    docstore=docstore,\n",
    ")"
   ]
  },
  {
   "cell_type": "code",
   "execution_count": null,
   "metadata": {},
   "outputs": [],
   "source": [
    "# 질문 유형별 분포 결정\n",
    "# simple: 간단한 질문, reasoning: 추론이 필요한 질문, multi_context: 여러 맥락을 고려해야 하는 질문, conditional: 조건부 질문\n",
    "distributions = {simple: 0.4, reasoning: 0.2, multi_context: 0.2, conditional: 0.2}"
   ]
  },
  {
   "cell_type": "code",
   "execution_count": null,
   "metadata": {},
   "outputs": [],
   "source": [
    "# 테스트셋 생성\n",
    "# docs: 문서 데이터, 10: 생성할 질문의 수, distributions: 질문 유형별 분포, with_debugging_logs: 디버깅 로그 출력 여부\n",
    "testset = generator.generate_with_langchain_docs(\n",
    "    documents=docs,\n",
    "    test_size=10,\n",
    "    distributions=distributions,\n",
    "    with_debugging_logs=True,\n",
    "    raise_exceptions=False,\n",
    ")\n",
    "\n",
    "test_df=testset.to_pandas()\n",
    "\n",
    "# DataFrame을 CSV 파일로 저장\n",
    "test_df.to_csv(\"../data/csv_data/ragas_synthetic_dataset.csv\", index=False)"
   ]
  },
  {
   "cell_type": "code",
   "execution_count": 14,
   "metadata": {},
   "outputs": [
    {
     "data": {
      "text/html": [
       "<div>\n",
       "<style scoped>\n",
       "    .dataframe tbody tr th:only-of-type {\n",
       "        vertical-align: middle;\n",
       "    }\n",
       "\n",
       "    .dataframe tbody tr th {\n",
       "        vertical-align: top;\n",
       "    }\n",
       "\n",
       "    .dataframe thead th {\n",
       "        text-align: right;\n",
       "    }\n",
       "</style>\n",
       "<table border=\"1\" class=\"dataframe\">\n",
       "  <thead>\n",
       "    <tr style=\"text-align: right;\">\n",
       "      <th></th>\n",
       "      <th>question</th>\n",
       "      <th>contexts</th>\n",
       "      <th>ground_truth</th>\n",
       "      <th>evolution_type</th>\n",
       "      <th>metadata</th>\n",
       "      <th>episode_done</th>\n",
       "    </tr>\n",
       "  </thead>\n",
       "  <tbody>\n",
       "    <tr>\n",
       "      <th>0</th>\n",
       "      <td>What are the contact details and price range f...</td>\n",
       "      <td>[&lt;row&gt;&lt;name&gt;애플하우스&lt;/name&gt;&lt;address&gt;호서로125번길 62-3...</td>\n",
       "      <td>The contact details for the accommodation at '...</td>\n",
       "      <td>simple</td>\n",
       "      <td>[{'source': '../data/csv_data/rental_data_with...</td>\n",
       "      <td>True</td>\n",
       "    </tr>\n",
       "    <tr>\n",
       "      <th>1</th>\n",
       "      <td>What is the phone number for the property loca...</td>\n",
       "      <td>[&lt;row&gt;&lt;name&gt;에코빌&lt;/name&gt;&lt;address&gt;호서로125번길 62-7&lt;/...</td>\n",
       "      <td>The phone number for the property located at 1...</td>\n",
       "      <td>simple</td>\n",
       "      <td>[{'source': '../data/csv_data/rental_data_with...</td>\n",
       "      <td>True</td>\n",
       "    </tr>\n",
       "    <tr>\n",
       "      <th>2</th>\n",
       "      <td>What is the price for renting the Ritz House l...</td>\n",
       "      <td>[&lt;row&gt;&lt;name&gt;리치하우스&lt;/name&gt;&lt;address&gt;호서로 125번길 22-...</td>\n",
       "      <td>The price for renting the Ritz House located a...</td>\n",
       "      <td>simple</td>\n",
       "      <td>[{'source': '../data/csv_data/rental_data_with...</td>\n",
       "      <td>True</td>\n",
       "    </tr>\n",
       "    <tr>\n",
       "      <th>3</th>\n",
       "      <td>What is the price for renting the 리치하우스 for on...</td>\n",
       "      <td>[&lt;row&gt;&lt;name&gt;리치하우스&lt;/name&gt;&lt;address&gt;호서로 125번길 22-...</td>\n",
       "      <td>The price for renting the 리치하우스 for one year i...</td>\n",
       "      <td>simple</td>\n",
       "      <td>[{'source': '../data/csv_data/rental_data_with...</td>\n",
       "      <td>True</td>\n",
       "    </tr>\n",
       "    <tr>\n",
       "      <th>4</th>\n",
       "      <td>What's the price range for the property at 125...</td>\n",
       "      <td>[&lt;row&gt;&lt;name&gt;벧엘원룸&lt;/name&gt;&lt;address&gt;호서로125번길 40-4 ...</td>\n",
       "      <td>The price range for the property at 125 Haeore...</td>\n",
       "      <td>reasoning</td>\n",
       "      <td>[{'source': '../data/csv_data/rental_data_with...</td>\n",
       "      <td>True</td>\n",
       "    </tr>\n",
       "  </tbody>\n",
       "</table>\n",
       "</div>"
      ],
      "text/plain": [
       "                                            question  \\\n",
       "0  What are the contact details and price range f...   \n",
       "1  What is the phone number for the property loca...   \n",
       "2  What is the price for renting the Ritz House l...   \n",
       "3  What is the price for renting the 리치하우스 for on...   \n",
       "4  What's the price range for the property at 125...   \n",
       "\n",
       "                                            contexts  \\\n",
       "0  [<row><name>애플하우스</name><address>호서로125번길 62-3...   \n",
       "1  [<row><name>에코빌</name><address>호서로125번길 62-7</...   \n",
       "2  [<row><name>리치하우스</name><address>호서로 125번길 22-...   \n",
       "3  [<row><name>리치하우스</name><address>호서로 125번길 22-...   \n",
       "4  [<row><name>벧엘원룸</name><address>호서로125번길 40-4 ...   \n",
       "\n",
       "                                        ground_truth evolution_type  \\\n",
       "0  The contact details for the accommodation at '...         simple   \n",
       "1  The phone number for the property located at 1...         simple   \n",
       "2  The price for renting the Ritz House located a...         simple   \n",
       "3  The price for renting the 리치하우스 for one year i...         simple   \n",
       "4  The price range for the property at 125 Haeore...      reasoning   \n",
       "\n",
       "                                            metadata  episode_done  \n",
       "0  [{'source': '../data/csv_data/rental_data_with...          True  \n",
       "1  [{'source': '../data/csv_data/rental_data_with...          True  \n",
       "2  [{'source': '../data/csv_data/rental_data_with...          True  \n",
       "3  [{'source': '../data/csv_data/rental_data_with...          True  \n",
       "4  [{'source': '../data/csv_data/rental_data_with...          True  "
      ]
     },
     "execution_count": 14,
     "metadata": {},
     "output_type": "execute_result"
    }
   ],
   "source": [
    "test_df"
   ]
  },
  {
   "cell_type": "code",
   "execution_count": 15,
   "metadata": {},
   "outputs": [
    {
     "data": {
      "text/plain": [
       "Dataset({\n",
       "    features: ['question', 'contexts', 'ground_truth', 'evolution_type', 'metadata', 'episode_done'],\n",
       "    num_rows: 5\n",
       "})"
      ]
     },
     "execution_count": 15,
     "metadata": {},
     "output_type": "execute_result"
    }
   ],
   "source": [
    "from datasets import Dataset\n",
    "\n",
    "test_dataset = Dataset.from_pandas(test_df)\n",
    "test_dataset"
   ]
  },
  {
   "cell_type": "code",
   "execution_count": null,
   "metadata": {},
   "outputs": [],
   "source": []
  }
 ],
 "metadata": {
  "kernelspec": {
   "display_name": ".venv",
   "language": "python",
   "name": "python3"
  },
  "language_info": {
   "codemirror_mode": {
    "name": "ipython",
    "version": 3
   },
   "file_extension": ".py",
   "mimetype": "text/x-python",
   "name": "python",
   "nbconvert_exporter": "python",
   "pygments_lexer": "ipython3",
   "version": "3.11.9"
  }
 },
 "nbformat": 4,
 "nbformat_minor": 2
}
