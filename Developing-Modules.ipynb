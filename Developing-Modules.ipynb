{
 "cells": [
  {
   "cell_type": "markdown",
   "metadata": {},
   "source": [
    "## 부탁 드립니다!\n",
    "\n",
    "본 자료는 패스트캠퍼스 RAG 비법노트 강의에서 유료 강의로 제공되는 자료입니다. \n",
    "\n",
    "따라서, 제공된 코드를 사용하여 개발하는 것은 얼마든지 가능합니다만,\n",
    "\n",
    "**제 3자 에게 무단배포, 웹에 소스코드 게재 및 배포는 금지**하고 있다는 점 부디 양해해 주시기 바랍니다.\n",
    "\n",
    "개발 및 학습 목적으로만 활용해 주세요. 많은 도움이 되었으면 좋겠습니다. 늘 감사드립니다."
   ]
  },
  {
   "cell_type": "markdown",
   "metadata": {},
   "source": [
    "## 환경 설정\n"
   ]
  },
  {
   "cell_type": "code",
   "execution_count": 7,
   "metadata": {},
   "outputs": [
    {
     "data": {
      "text/plain": [
       "True"
      ]
     },
     "execution_count": 7,
     "metadata": {},
     "output_type": "execute_result"
    }
   ],
   "source": [
    "from dotenv import load_dotenv\n",
    "\n",
    "load_dotenv()"
   ]
  },
  {
   "cell_type": "code",
   "execution_count": 8,
   "metadata": {},
   "outputs": [
    {
     "name": "stdout",
     "output_type": "stream",
     "text": [
      "LangSmith 추적을 하지 않습니다.\n"
     ]
    }
   ],
   "source": [
    "from langchain_teddynote import logging\n",
    "\n",
    "logging.langsmith(\"TeddyNote-Parser\", set_enable=False)"
   ]
  },
  {
   "cell_type": "code",
   "execution_count": 9,
   "metadata": {},
   "outputs": [],
   "source": [
    "# PDF 파싱을 위한 필수 라이브러리들을 임포트합니다\n",
    "import os\n",
    "from layoutparse.utils import (\n",
    "    SplitPDFFilesNode,\n",
    ")  # PDF 파일을 분할하는 노드를 임포트합니다\n",
    "from layoutparse.state import ParseState  # 파싱 상태를 관리하는 클래스를 임포트합니다\n",
    "from layoutparse.upstage import (  # Upstage 관련 주요 노드들을 임포트합니다\n",
    "    DocumentParseNode,  # 문서 파싱을 담당하는 노드\n",
    "    PostDocumentParseNode,  # 파싱 후처리를 담당하는 노드\n",
    "    WorkingQueueNode,  # 작업 큐를 관리하는 노드\n",
    "    continue_parse,  # 파싱 계속 여부를 결정하는 함수\n",
    ")\n",
    "from langgraph.graph import StateGraph  # 그래프 상태를 관리하는 클래스를 임포트합니다\n",
    "from langgraph.checkpoint.memory import (\n",
    "    MemorySaver,\n",
    ")  # 메모리 체크포인트 저장을 위한 클래스입니다\n",
    "from langchain_teddynote.graphs import (\n",
    "    visualize_graph,\n",
    ")  # 그래프 시각화를 위한 함수를 임포트합니다\n",
    "\n",
    "\n",
    "# PDF 파일을 30페이지 단위로 분할하는 노드를 생성합니다\n",
    "# verbose=True로 설정하면 노드의 실행 상태를 출력합니다\n",
    "split_pdf_node = SplitPDFFilesNode(batch_size=30, test_page=None, verbose=True)\n",
    "\n",
    "# Upstage API를 사용하여 문서를 파싱하는 노드를 생성합니다\n",
    "document_parse_node = DocumentParseNode(\n",
    "    api_key=os.environ[\"UPSTAGE_API_KEY\"],use_ocr=True, verbose=True\n",
    ")\n",
    "\n",
    "# 파싱 후처리를 담당하는 노드를 생성합니다\n",
    "post_document_parse_node = PostDocumentParseNode(verbose=True)\n",
    "# 작업 큐를 관리하는 노드를 생성합니다\n",
    "working_queue_node = WorkingQueueNode(verbose=True)\n",
    "\n",
    "\n",
    "# ParseState를 기반으로 하는 StateGraph 워크플로우를 생성합니다\n",
    "workflow = StateGraph(ParseState)\n",
    "\n",
    "# 워크플로우에 각각의 노드들을 추가합니다\n",
    "workflow.add_node(\"split_pdf_node\", split_pdf_node)\n",
    "workflow.add_node(\"document_parse_node\", document_parse_node)\n",
    "workflow.add_node(\"post_document_parse_node\", post_document_parse_node)\n",
    "workflow.add_node(\"working_queue_node\", working_queue_node)\n",
    "\n",
    "# 노드들 간의 연결 관계를 설정합니다\n",
    "workflow.add_edge(\"split_pdf_node\", \"working_queue_node\")\n",
    "# 작업 큐 노드에서 조건에 따라 다음 노드를 결정하는 분기를 추가합니다\n",
    "workflow.add_conditional_edges(\n",
    "    \"working_queue_node\",\n",
    "    continue_parse,\n",
    "    {True: \"document_parse_node\", False: \"post_document_parse_node\"},\n",
    ")\n",
    "workflow.add_edge(\"document_parse_node\", \"working_queue_node\")\n",
    "\n",
    "# 워크플로우의 시작점을 PDF 분할 노드로 설정합니다\n",
    "workflow.set_entry_point(\"split_pdf_node\")\n",
    "\n",
    "# 최종적으로 메모리 체크포인터를 사용하여 워크플로우를 컴파일합니다\n",
    "upstage_parser_graph = workflow.compile(checkpointer=MemorySaver())"
   ]
  },
  {
   "cell_type": "markdown",
   "metadata": {},
   "source": [
    "## 이전 단계까지의 내용 재사용"
   ]
  },
  {
   "cell_type": "markdown",
   "metadata": {},
   "source": [
    "### `upstage_parser_graph` 생성\n",
    "\n",
    "- `batch_size`: 한번에 처리할 페이지 수\n",
    "- `test_page`: 테스트할 페이지 번호\n",
    "- `verbose`: 디버깅 메시지 출력 여부\n"
   ]
  },
  {
   "cell_type": "code",
   "execution_count": 10,
   "metadata": {},
   "outputs": [
    {
     "data": {
      "image/jpeg": "[encoded data removed]",
      "text/plain": [
       "<IPython.core.display.Image object>"
      ]
     },
     "metadata": {},
     "output_type": "display_data"
    }
   ],
   "source": [
    "from layoutparse.teddynote_parser import create_upstage_parser_graph\n",
    "\n",
    "# 그래프 생성\n",
    "upstage_parser_graph = create_upstage_parser_graph(\n",
    "    batch_size=30, test_page=None, verbose=True, visualize=True\n",
    ")"
   ]
  },
  {
   "cell_type": "markdown",
   "metadata": {},
   "source": [
    "### `upstage_parser_graph` 사용\n",
    "\n",
    "- `filepath`: 분석할 PDF 파일의 경로"
   ]
  },
  {
   "cell_type": "code",
   "execution_count": 14,
   "metadata": {},
   "outputs": [
    {
     "name": "stdout",
     "output_type": "stream",
     "text": [
      "[SplitPDFNode] 파일의 전체 페이지 수: 15 Pages.\n",
      "[SplitPDFNode] 분할 PDF 생성: data/pdf_data/middle_gate_0000_0014.pdf\n",
      "[DocumentParseNode] Start Parsing: data/pdf_data/middle_gate_0000_0014.pdf\n",
      "[DocumentParseNode] Finished Parsing in 14.58 seconds\n",
      "[PostDocumentParseNode] Total Post-processed Elements: 123\n",
      "[PostDocumentParseNode] Total Cost: $0.15\n"
     ]
    }
   ],
   "source": [
    "import uuid\n",
    "from langchain_core.runnables import RunnableConfig\n",
    "from langchain_teddynote.messages import stream_graph\n",
    "\n",
    "# 옵션 설정\n",
    "config = RunnableConfig(\n",
    "    recursion_limit=300,\n",
    "    configurable={\"thread_id\": str(uuid.uuid4())},\n",
    ")\n",
    "\n",
    "# filepath: 분석할 PDF 파일의 경로\n",
    "inputs = {\n",
    "    \"filepath\": \"data/pdf_data/middle_gate.pdf\",\n",
    "}\n",
    "\n",
    "stream_graph(upstage_parser_graph, inputs, config=config)"
   ]
  },
  {
   "cell_type": "code",
   "execution_count": null,
   "metadata": {},
   "outputs": [],
   "source": [
    "# 추출된 요소들을 확인합니다\n",
    "elements = upstage_parser_graph.get_state(config).values[\"elements_from_parser\"]\n",
    "elements[-20:]"
   ]
  },
  {
   "cell_type": "markdown",
   "metadata": {},
   "source": [
    "## Export 처리 로직 구성\n",
    "\n",
    "이전 단계의 State 를 재사용하기 때문에 **모듈 단위로 이어서 개발하기가 용이**합니다."
   ]
  },
  {
   "cell_type": "code",
   "execution_count": null,
   "metadata": {},
   "outputs": [],
   "source": [
    "# 그래프 처리를 위한 필수 라이브러리들을 임포트합니다\n",
    "from langgraph.graph import StateGraph, END\n",
    "from layoutparse.state import ParseState\n",
    "import layoutparse.export as export\n",
    "from langchain_teddynote.graphs import visualize_graph\n",
    "\n",
    "\"\"\"\n",
    "후처리 워크플로우를 생성하고 관리하는 클래스입니다.\n",
    "이미지, HTML, 마크다운, CSV 등 다양한 포맷으로 변환하는 작업을 처리합니다.\n",
    "\"\"\"\n",
    "\n",
    "# ParseState를 상태 관리자로 사용하는 StateGraph 인스턴스를 생성합니다\n",
    "export_workflow = StateGraph(ParseState)\n",
    "\n",
    "# 각각의 export 컴포넌트들을 verbose 모드로 초기화합니다\n",
    "export_image = export.ExportImage(verbose=True)  # 이미지 export 담당\n",
    "export_html = export.ExportHTML(verbose=True)  # HTML export 담당\n",
    "export_markdown = export.ExportMarkdown(verbose=True)  # 마크다운 export 담당\n",
    "export_table_csv = export.ExportTableCSV(verbose=True)  # CSV export 담당\n",
    "\n",
    "# 워크플로우에 각 컴포넌트들을 노드로 추가합니다\n",
    "export_workflow.add_node(\"export_image\", export_image)\n",
    "export_workflow.add_node(\"export_html\", export_html)\n",
    "export_workflow.add_node(\"export_markdown\", export_markdown)\n",
    "export_workflow.add_node(\"export_table_to_csv\", export_table_csv)\n",
    "\n",
    "# export_image 노드에서 다른 노드들로 연결되는 엣지를 추가합니다\n",
    "export_workflow.add_edge(\"export_image\", \"export_html\")\n",
    "export_workflow.add_edge(\"export_image\", \"export_markdown\")\n",
    "export_workflow.add_edge(\"export_image\", \"export_table_to_csv\")\n",
    "\n",
    "# 각 export 노드에서 END로 연결되는 엣지를 추가합니다\n",
    "export_workflow.add_edge(\"export_html\", END)\n",
    "export_workflow.add_edge(\"export_markdown\", END)\n",
    "export_workflow.add_edge(\"export_table_to_csv\", END)\n",
    "\n",
    "# 워크플로우의 시작점을 export_image로 설정합니다\n",
    "export_workflow.set_entry_point(\"export_image\")\n",
    "\n",
    "# 워크플로우를 컴파일하고 시각화합니다\n",
    "export_graph = export_workflow.compile()\n",
    "visualize_graph(export_graph)"
   ]
  },
  {
   "cell_type": "code",
   "execution_count": null,
   "metadata": {},
   "outputs": [],
   "source": [
    "# 이전 단계의 실행 결과를 사용합니다\n",
    "previous_state = upstage_parser_graph.get_state(config).values"
   ]
  },
  {
   "cell_type": "code",
   "execution_count": null,
   "metadata": {},
   "outputs": [],
   "source": [
    "# 추출된 요소들을 확인합니다\n",
    "previous_state[\"elements_from_parser\"][:10]"
   ]
  },
  {
   "cell_type": "code",
   "execution_count": null,
   "metadata": {},
   "outputs": [],
   "source": [
    "# 이전 단계의 실행 결과를 복사하여 입력으로 사용합니다\n",
    "inputs = previous_state.copy()"
   ]
  },
  {
   "cell_type": "markdown",
   "metadata": {},
   "source": [
    "매번 최신 코드를 반영하기 위한 `importlib` "
   ]
  },
  {
   "cell_type": "code",
   "execution_count": null,
   "metadata": {},
   "outputs": [],
   "source": [
    "import importlib\n",
    "\n",
    "# export 모듈을 새로 리로드하여 최신 상태를 유지합니다\n",
    "importlib.reload(export)\n",
    "\n",
    "# 각각의 export 컴포넌트들을 verbose 모드로 초기화합니다\n",
    "export_image = export.ExportImage(verbose=True)\n",
    "export_html = export.ExportHTML(verbose=True, ignore_new_line_in_text=True)\n",
    "export_markdown = export.ExportMarkdown(\n",
    "    verbose=True, ignore_new_line_in_text=True, show_image=True\n",
    ")\n",
    "export_table_csv = export.ExportTableCSV(verbose=True)"
   ]
  },
  {
   "cell_type": "markdown",
   "metadata": {},
   "source": [
    "단계별 상태를 업데이트 후 반영합니다."
   ]
  },
  {
   "cell_type": "code",
   "execution_count": null,
   "metadata": {},
   "outputs": [],
   "source": [
    "inputs2 = export_image(inputs)\n",
    "inputs.update(inputs2)"
   ]
  },
  {
   "cell_type": "code",
   "execution_count": null,
   "metadata": {},
   "outputs": [],
   "source": [
    "# 반영된 결과\n",
    "inputs[\"elements_from_parser\"][-30:-25]"
   ]
  },
  {
   "cell_type": "code",
   "execution_count": null,
   "metadata": {},
   "outputs": [],
   "source": [
    "export_html(inputs)"
   ]
  },
  {
   "cell_type": "markdown",
   "metadata": {},
   "source": [
    "입력으로 들어가는 상태 확인"
   ]
  },
  {
   "cell_type": "code",
   "execution_count": null,
   "metadata": {},
   "outputs": [],
   "source": [
    "inputs[\"elements_from_parser\"][0]"
   ]
  },
  {
   "cell_type": "markdown",
   "metadata": {},
   "source": [
    "### Markdown"
   ]
  },
  {
   "cell_type": "code",
   "execution_count": null,
   "metadata": {},
   "outputs": [],
   "source": [
    "export_markdown(inputs)"
   ]
  },
  {
   "cell_type": "markdown",
   "metadata": {},
   "source": [
    "### CSV"
   ]
  },
  {
   "cell_type": "code",
   "execution_count": null,
   "metadata": {},
   "outputs": [],
   "source": [
    "export_table_csv(inputs)"
   ]
  },
  {
   "cell_type": "code",
   "execution_count": null,
   "metadata": {},
   "outputs": [],
   "source": [
    "# 추출된 요소들을 확인합니다\n",
    "previous_state[\"images_by_page\"]"
   ]
  },
  {
   "cell_type": "code",
   "execution_count": null,
   "metadata": {},
   "outputs": [],
   "source": []
  }
 ],
 "metadata": {
  "kernelspec": {
   "display_name": ".venv",
   "language": "python",
   "name": "python3"
  },
  "language_info": {
   "codemirror_mode": {
    "name": "ipython",
    "version": 3
   },
   "file_extension": ".py",
   "mimetype": "text/x-python",
   "name": "python",
   "nbconvert_exporter": "python",
   "pygments_lexer": "ipython3",
   "version": "3.11.9"
  }
 },
 "nbformat": 4,
 "nbformat_minor": 2
}
