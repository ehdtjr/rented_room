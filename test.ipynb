{
 "cells": [
  {
   "cell_type": "code",
   "execution_count": null,
   "metadata": {},
   "outputs": [],
   "source": [
    "from data_processor.save_data import DataProcessor\n",
    "import json\n",
    "import os\n",
    "\n",
    "directory_path = \"data/json_data\"\n",
    "\n",
    "# 디렉토리의 모든 파일 리스트 가져오기\n",
    "files = os.listdir(directory_path)\n",
    "\n",
    "ret=[]\n",
    "\n",
    "for file in files:\n",
    "    # 파일의 전체 경로 생성\n",
    "    file_path = os.path.join(directory_path, file)\n",
    "    with open(file_path, 'r', encoding='utf-8') as f:  # 전체 경로로 파일 열기\n",
    "        data = json.load(f)\n",
    "\n",
    "    place=file.split(\".\")[0]\n",
    "\n",
    "    text_content = data[\"content\"][\"text\"]\n",
    "    content=\"\\n\"+text_content\n",
    "\n",
    "    save_json_csv = DataProcessor(content)\n",
    "    json_data=save_json_csv.export_json(place)\n",
    "\n",
    "    ret.extend(json_data)\n",
    "\n",
    "save_json_csv.json_to_csv(ret)"
   ]
  },
  {
   "cell_type": "code",
   "execution_count": null,
   "metadata": {},
   "outputs": [],
   "source": [
    "# from data_processing.save_data import SaveJsonCsv\n",
    "\n",
    "# save_json_csv = SaveJsonCsv(content)\n",
    "# json_data=save_json_csv.export_json()\n",
    "# save_json_csv.save_csv(json_data)"
   ]
  },
  {
   "cell_type": "code",
   "execution_count": null,
   "metadata": {},
   "outputs": [],
   "source": [
    "# json_data"
   ]
  }
 ],
 "metadata": {
  "kernelspec": {
   "display_name": ".venv",
   "language": "python",
   "name": "python3"
  },
  "language_info": {
   "codemirror_mode": {
    "name": "ipython",
    "version": 3
   },
   "file_extension": ".py",
   "mimetype": "text/x-python",
   "name": "python",
   "nbconvert_exporter": "python",
   "pygments_lexer": "ipython3",
   "version": "3.11.9"
  }
 },
 "nbformat": 4,
 "nbformat_minor": 2
}
