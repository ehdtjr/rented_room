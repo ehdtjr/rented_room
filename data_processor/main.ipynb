{
 "cells": [
  {
   "cell_type": "code",
   "execution_count": null,
   "metadata": {},
   "outputs": [],
   "source": [
    "from processor import DataProcessor\n",
    "import json\n",
    "import os\n",
    "\n",
    "directory_path = \"../data/json_data\"\n",
    "\n",
    "# 디렉토리의 모든 파일 리스트 가져오기\n",
    "files = os.listdir(directory_path)\n",
    "\n",
    "ret = []\n",
    "\n",
    "for file in files:\n",
    "    # 파일의 전체 경로 생성\n",
    "    file_path = os.path.join(directory_path, file)\n",
    "    with open(file_path, \"r\", encoding=\"utf-8\") as f:  # 전체 경로로 파일 열기\n",
    "        data = json.load(f)\n",
    "\n",
    "    place = file.split(\".\")[0]\n",
    "\n",
    "    text_content = data[\"content\"][\"text\"]\n",
    "    content = \"\\n\" + text_content\n",
    "\n",
    "    save_json_csv = DataProcessor(content)\n",
    "    json_data = save_json_csv.export_json(place)\n",
    "\n",
    "    ret.extend(json_data)\n",
    "\n",
    "# save_json_csv.json_to_csv(ret)"
   ]
  },
  {
   "cell_type": "code",
   "execution_count": null,
   "metadata": {},
   "outputs": [],
   "source": [
    "import re\n",
    "import csv\n",
    "import os\n",
    "\n",
    "# 필드 추출 정규식\n",
    "field_patterns = {\n",
    "    \"name\": r\"\\n([^\\n]+)\\n*(도로명 주소|연락처)\",  # 자취방 이름 필드 매칭\n",
    "    \"address\": r\"도로명 주소:\\s*(.+?)\\n\",  # 도로명 주소 필드 매칭\n",
    "    \"contact\": r\"연락처\\s*:\\s*(.+?)\\n\",  # 연락처 필드 매칭\n",
    "    \"price\": r\"가격:\\s*(.+?)\\n\",  # 가격 필드 매칭\n",
    "    \"fee\": r\"관리비/보증금:\\s*([^\\n]*)\",  # 관리비/보증금 필드 매칭\n",
    "    \"options\": r\"옵션:\\s*(.+?)\\n\",  # 옵션 필드 매칭\n",
    "    \"gas_type\": r\"LPG/심야전기/도시가스:\\s*(.+?)\\n\",  # 가스 유형 필드 매칭\n",
    "    \"comment\": r\"\\* (.+?)\\n\",  # 비고 필드 매칭\n",
    "}"
   ]
  },
  {
   "cell_type": "code",
   "execution_count": null,
   "metadata": {},
   "outputs": [],
   "source": [
    "import pandas as pd\n",
    "\n",
    "# CSV 파일 불러오기\n",
    "file_path = \"../data/csv_data/rental_data_with_zeros.csv\"  # 파일 경로 지정\n",
    "df = pd.read_csv(file_path)\n",
    "\n",
    "# 데이터 확인\n",
    "# print(df.head())  # 상위 5개 행 출력\n",
    "print(df.dtypes)  # 각 열의 데이터 타입 확인"
   ]
  },
  {
   "cell_type": "code",
   "execution_count": null,
   "metadata": {},
   "outputs": [],
   "source": []
  }
 ],
 "metadata": {
  "kernelspec": {
   "display_name": ".venv",
   "language": "python",
   "name": "python3"
  },
  "language_info": {
   "codemirror_mode": {
    "name": "ipython",
    "version": 3
   },
   "file_extension": ".py",
   "mimetype": "text/x-python",
   "name": "python",
   "nbconvert_exporter": "python",
   "pygments_lexer": "ipython3",
   "version": "3.11.9"
  }
 },
 "nbformat": 4,
 "nbformat_minor": 2
}
