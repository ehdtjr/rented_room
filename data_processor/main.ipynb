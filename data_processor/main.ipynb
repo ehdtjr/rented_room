{
 "cells": [
  {
   "cell_type": "code",
   "execution_count": null,
   "metadata": {},
   "outputs": [],
   "source": [
    "from processor import DataProcessor\n",
    "import json\n",
    "import os\n",
    "\n",
    "directory_path = \"../data/json_data\"\n",
    "\n",
    "# 디렉토리의 모든 파일 리스트 가져오기\n",
    "files = os.listdir(directory_path)\n",
    "\n",
    "ret=[]\n",
    "\n",
    "for file in files:\n",
    "    # 파일의 전체 경로 생성\n",
    "    file_path = os.path.join(directory_path, file)\n",
    "    with open(file_path, 'r', encoding='utf-8') as f:  # 전체 경로로 파일 열기\n",
    "        data = json.load(f)\n",
    "\n",
    "    place=file.split(\".\")[0]\n",
    "\n",
    "    text_content = data[\"content\"][\"text\"]\n",
    "    content=\"\\n\"+text_content\n",
    "\n",
    "    save_json_csv = DataProcessor(content)\n",
    "    json_data=save_json_csv.export_json(place)\n",
    "\n",
    "    ret.extend(json_data)\n",
    "\n",
    "# save_json_csv.json_to_csv(ret)"
   ]
  },
  {
   "cell_type": "code",
   "execution_count": null,
   "metadata": {},
   "outputs": [],
   "source": [
    "import re\n",
    "import csv\n",
    "import os\n",
    "\n",
    "# 필드 추출 정규식\n",
    "field_patterns = {\n",
    "    \"name\": r\"\\n([^\\n]+)\\n*(도로명 주소|연락처)\",  # 자취방 이름 필드 매칭\n",
    "    \"address\": r\"도로명 주소:\\s*(.+?)\\n\",  # 도로명 주소 필드 매칭\n",
    "    \"contact\": r\"연락처\\s*:\\s*(.+?)\\n\",  # 연락처 필드 매칭\n",
    "    \"price\": r\"가격:\\s*(.+?)\\n\",  # 가격 필드 매칭\n",
    "    \"fee\": r\"관리비/보증금:\\s*([^\\n]*)\",  # 관리비/보증금 필드 매칭\n",
    "    \"options\": r\"옵션:\\s*(.+?)\\n\",  # 옵션 필드 매칭\n",
    "    \"gas_type\": r\"LPG/심야전기/도시가스:\\s*(.+?)\\n\",  # 가스 유형 필드 매칭\n",
    "    \"comment\": r\"\\* (.+?)\\n\",  # 비고 필드 매칭\n",
    "}\n",
    "\n",
    "sample_data = \"\\n스마일원룸\\n도로명 주소: 호서로 96-1\\n연락처 : 010-3442-3124\\n가격: 년세 300\\n관리비/보증금: X / 30만원\\n옵션: 풀옵션\\nLPG/심야전기/도시가스: 도시가스\\n\\n\\n\\n\\n\\n\\n제40대 총학생회 '윤슬'\\n청록원룸\\n도로명 주소: 호서로 104-22\\n연락처 : 010-3753-5579\\n가격: 년세 270 / 반년세 140\\n관리비/보증금: X / 20만원\\n옵션: 풀옵션\\nLPG/심야전기/도시가스: 도시가스\\n+\\n* 수도세, 인터넷 요금 년세에 포함\\n\\n제40대 총학생회 '윤슬'\\n조은방\\n도로명 주소: 호서로 118-5\\n연락처: 010-5932-4692\\n가격: 년세 250 / 반년세 125\\n월세 봄, 여름 25 / 가을, 겨울 35\\n관리비/보증금: X\\n옵션: 풀옵션\\nLPG/심야전기/도시가스: 심야전기\\n★\\n\\n□ ·□ 日\\n\\n제40대 총학생회 '윤슬'\\n스위티빌\\n도로명 주소: 호서로 112번길 10\\n연락처 : 010-2928-8318\\n가격: 년세 300 / 반년세 170 / 월세 30\\n관리비/보증금: X / 10 - 30만원\\n옵션: 풀옵션\\nLPG/심야전기/도시가스: 심야전기\\n\\n\\n\\n\\n\\n제40대 총학생회 '윤슬'\\n레몬트리\\n도로명 주소: 호서로 138\\n연락처 : 010-8217-2191\\n가격: 방마다 상이 (하단 참고)\\n관리비/보증금: 연 50만원 / 50만원\\n옵션: 풀옵션\\nLPG/심야전기/도시가스: 산업용 일반전기\\nX\\n* A타입 240, B타입 290, C타입 340, D타입 400\\n\\n\\n\\n제40대 총학생회 '윤슬'\\n뉴라이프원룸\\n연락처: 010-3352-2880\\n서울빌\\n연락처: 010-2351-3744\\n제40대 총학생회 '윤슬'\"\n",
    "\n",
    "for i in re.finditer(field_patterns[\"name\"], sample_data, re.M):\n",
    "    print(i.group(1))"
   ]
  },
  {
   "cell_type": "code",
   "execution_count": null,
   "metadata": {},
   "outputs": [],
   "source": [
    "import pandas as pd\n",
    "\n",
    "# CSV 파일 불러오기\n",
    "file_path = \"../data/csv_data/rental_data_with_zeros.csv\"  # 파일 경로 지정\n",
    "df = pd.read_csv(file_path)\n",
    "\n",
    "# 데이터 확인\n",
    "# print(df.head())  # 상위 5개 행 출력\n",
    "print(df.dtypes)  # 각 열의 데이터 타입 확인\n"
   ]
  },
  {
   "cell_type": "code",
   "execution_count": null,
   "metadata": {},
   "outputs": [],
   "source": []
  }
 ],
 "metadata": {
  "kernelspec": {
   "display_name": ".venv",
   "language": "python",
   "name": "python3"
  },
  "language_info": {
   "codemirror_mode": {
    "name": "ipython",
    "version": 3
   },
   "file_extension": ".py",
   "mimetype": "text/x-python",
   "name": "python",
   "nbconvert_exporter": "python",
   "pygments_lexer": "ipython3",
   "version": "3.11.9"
  }
 },
 "nbformat": 4,
 "nbformat_minor": 2
}
